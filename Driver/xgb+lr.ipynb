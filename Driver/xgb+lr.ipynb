{
 "cells": [
  {
   "cell_type": "code",
   "execution_count": 2,
   "metadata": {},
   "outputs": [
    {
     "name": "stderr",
     "output_type": "stream",
     "text": [
      "C:\\Users\\KrystalU\\Anaconda2\\lib\\site-packages\\sklearn\\cross_validation.py:41: DeprecationWarning: This module was deprecated in version 0.18 in favor of the model_selection module into which all the refactored classes and functions are moved. Also note that the interface of the new CV iterators are different from that of this module. This module will be removed in 0.20.\n",
      "  \"This module will be removed in 0.20.\", DeprecationWarning)\n"
     ]
    }
   ],
   "source": [
    "from __future__ import division\n",
    "from time import time\n",
    "import re\n",
    "import numpy as np # linear algebra\n",
    "import pandas as pd # data processing, CSV file I/O (e.g. pd.read_csv)\n",
    "import xgboost as xgb\n",
    "from sklearn.cross_validation import StratifiedKFold\n",
    "from sklearn.cross_validation import cross_val_score\n",
    "from sklearn.metrics import roc_auc_score\n",
    "from sklearn.ensemble import GradientBoostingClassifier\n",
    "from sklearn.feature_selection import SelectFromModel, VarianceThreshold\n",
    "import xgboost as xgb\n",
    "from sklearn.cross_validation import KFold\n",
    "from sklearn.linear_model import LogisticRegression\n",
    "from sklearn.preprocessing import normalize\n",
    "from sklearn.decomposition import PCA\n",
    "from sklearn.model_selection import train_test_split\n",
    "from scipy.sparse import lil_matrix\n",
    "\n",
    "from sklearn.cross_validation import KFold\n",
    "from sklearn.linear_model import LogisticRegression\n",
    "from sklearn.preprocessing import normalize"
   ]
  },
  {
   "cell_type": "code",
   "execution_count": 2,
   "metadata": {},
   "outputs": [
    {
     "name": "stdout",
     "output_type": "stream",
     "text": [
      "loading files...\n"
     ]
    }
   ],
   "source": [
    "print('loading files...')\n",
    "train = pd.read_csv('C:/Users/KrystalU/Documents/Data/Driver/train.csv', na_values=-1)\n",
    "test = pd.read_csv('C:/Users/KrystalU/Documents/Data/Driver//test.csv', na_values=-1)"
   ]
  },
  {
   "cell_type": "code",
   "execution_count": 3,
   "metadata": {
    "collapsed": true
   },
   "outputs": [],
   "source": [
    "unwanted = train.columns[train.columns.str.startswith('ps_calc_')]\n",
    "train = train.drop(unwanted, axis=1)\n",
    "test = test.drop(unwanted, axis=1)\n",
    "origin_cols = list(set(train.columns) - set(['id', 'target']))"
   ]
  },
  {
   "cell_type": "code",
   "execution_count": 11,
   "metadata": {},
   "outputs": [
    {
     "name": "stdout",
     "output_type": "stream",
     "text": [
      "[0]\ttrain-error:0.036447\tvalid-error:0.036449\ttrain-gini:0.009202\tvalid-gini:-0.005398\n",
      "Multiple eval metrics have been passed: 'valid-gini' will be used for early stopping.\n",
      "\n",
      "Will train until valid-gini hasn't improved in 100 rounds.\n",
      "[100]\ttrain-error:0.036447\tvalid-error:0.036449\ttrain-gini:0.297619\tvalid-gini:0.260624\n",
      "[200]\ttrain-error:0.036447\tvalid-error:0.036449\ttrain-gini:0.314296\tvalid-gini:0.263077\n",
      "[300]\ttrain-error:0.036445\tvalid-error:0.036449\ttrain-gini:0.332032\tvalid-gini:0.267259\n",
      "[400]\ttrain-error:0.036441\tvalid-error:0.036449\ttrain-gini:0.351214\tvalid-gini:0.271633\n",
      "[500]\ttrain-error:0.03643\tvalid-error:0.036449\ttrain-gini:0.370415\tvalid-gini:0.275676\n",
      "[600]\ttrain-error:0.036422\tvalid-error:0.036466\ttrain-gini:0.389309\tvalid-gini:0.278737\n",
      "[700]\ttrain-error:0.036422\tvalid-error:0.036466\ttrain-gini:0.40526\tvalid-gini:0.280452\n",
      "[800]\ttrain-error:0.036418\tvalid-error:0.036474\ttrain-gini:0.421215\tvalid-gini:0.281362\n",
      "[900]\ttrain-error:0.036416\tvalid-error:0.036474\ttrain-gini:0.432822\tvalid-gini:0.281772\n",
      "[1000]\ttrain-error:0.036414\tvalid-error:0.036466\ttrain-gini:0.444263\tvalid-gini:0.281251\n",
      "Stopping. Best iteration:\n",
      "[900]\ttrain-error:0.036416\tvalid-error:0.036474\ttrain-gini:0.432822\tvalid-gini:0.281772\n",
      "\n",
      "Training time: 6.92656666835 mins.\n"
     ]
    }
   ],
   "source": [
    "def gini(actual, pred, cmpcol=0, sortcol=1):\n",
    "    assert (len(actual) == len(pred))\n",
    "    tmp = np.asarray(np.c_[actual, pred, np.arange(len(actual))], dtype=np.float)\n",
    "    tmp = tmp[np.lexsort((tmp[:, 2], -1 * tmp[:, 1]))]\n",
    "    totalLosses = tmp[:, 0].sum()\n",
    "    giniSum = tmp[:, 0].cumsum().sum() / totalLosses\n",
    "\n",
    "    giniSum -= (len(actual) + 1) / 2.\n",
    "    return giniSum / len(actual)\n",
    "\n",
    "def gini_normalized(a, p):\n",
    "    return gini(a, p) / gini(a, a)\n",
    "\n",
    "\n",
    "def gini_xgb(preds, dtrain):\n",
    "    labels = dtrain.get_label()\n",
    "    gini_score = gini_normalized(labels, preds)\n",
    "    return 'gini', gini_score\n",
    "\n",
    "params = {\n",
    "    'min_child_weight': 9,\n",
    "    'objective': 'binary:logistic',\n",
    "    'max_depth': 7,\n",
    "    'max_delta_step': 1.5,\n",
    "    'colsample_bytree': 0.6,\n",
    "    'subsample': 0.8,\n",
    "    'eta': 0.01,\n",
    "    'gamma': 0.8,\n",
    "    'num_boost_round': 1000,\n",
    "    'random_state': 42\n",
    "    }\n",
    "\n",
    "X = train.drop(['id', 'target'], axis=1)\n",
    "y = train['target']\n",
    "X_train, X_test, y_train, y_test = train_test_split(X, y, test_size=0.2, random_state=42, stratify = y)\n",
    "d_train = xgb.DMatrix(X_train, y_train)\n",
    "d_valid = xgb.DMatrix(X_test, y_test)\n",
    "watchlist = [(d_train, 'train'), (d_valid, 'valid')]\n",
    "\n",
    "start = time()\n",
    "xgb_model = xgb.train(params, d_train, 1600, watchlist, early_stopping_rounds=100,\n",
    "                      feval=gini_xgb, maximize=True, verbose_eval=100)\n",
    "print 'Training time: {} mins.'.format((time() - start) / 60)"
   ]
  },
  {
   "cell_type": "code",
   "execution_count": 12,
   "metadata": {
    "collapsed": true
   },
   "outputs": [],
   "source": [
    "XGB_FILE = 'xgb.txt'\n",
    "xgb_model.dump_model(XGB_FILE)"
   ]
  },
  {
   "cell_type": "code",
   "execution_count": 3,
   "metadata": {},
   "outputs": [],
   "source": [
    "XGB_FILE = 'xgb.txt'\n",
    "f = open(XGB_FILE,'r')\n",
    "feature_set = set()\n",
    "for line in f.readlines():\n",
    "    if '<' in line:             #feature line\n",
    "        line = line.split(':')[1].strip()\n",
    "        feature_re = re.match('\\[(.*)?\\]', line)\n",
    "        info = feature_re.group(0)              #should be only one group\n",
    "        info = re.sub('\\[|\\]','',info)\n",
    "        feature_set.add(info)"
   ]
  },
  {
   "cell_type": "code",
   "execution_count": 4,
   "metadata": {
    "collapsed": true
   },
   "outputs": [],
   "source": [
    "feature_set = list(feature_set)"
   ]
  },
  {
   "cell_type": "code",
   "execution_count": 8,
   "metadata": {},
   "outputs": [],
   "source": [
    "fea_map = pd.DataFrame(feature_set)\n",
    "fea_map.columns = ['feature']\n",
    "fea_map['key'] = fea_map['feature'].apply(lambda x: x.split('<')[0])\n",
    "fea_map['value'] = fea_map['feature'].apply(lambda x: float(x.split('<')[1]))"
   ]
  },
  {
   "cell_type": "code",
   "execution_count": null,
   "metadata": {
    "collapsed": true
   },
   "outputs": [],
   "source": [
    "fea_map = fea_map['']\n",
    "fea_map.to_csv('fea_map.csv',index=False)"
   ]
  },
  {
   "cell_type": "code",
   "execution_count": 6,
   "metadata": {},
   "outputs": [
    {
     "name": "stdout",
     "output_type": "stream",
     "text": [
      "Feature adding time: 3.66776666641 mins\n"
     ]
    }
   ],
   "source": [
    "start = time()\n",
    "#feature encoder\n",
    "for j, info in enumerate(feature_set[:400]):\n",
    "    key = info.split(\"<\")[0].strip()\n",
    "    value = float(info.split(\"<\")[1].strip())\n",
    "    train[info] = train[key].apply(lambda x: 1 if x<value else 0)\n",
    "    test[info] = test[key].apply(lambda x: 1 if x<value else 0)\n",
    "print 'Feature adding time: {} mins'.format((time()-start)/60)"
   ]
  },
  {
   "cell_type": "code",
   "execution_count": 7,
   "metadata": {
    "collapsed": true
   },
   "outputs": [],
   "source": [
    "#remove original feature\n",
    "train = train.drop(origin_cols, axis=1)\n",
    "test = test.drop(origin_cols, axis=1)"
   ]
  },
  {
   "cell_type": "code",
   "execution_count": 8,
   "metadata": {
    "collapsed": true
   },
   "outputs": [],
   "source": [
    "sub = pd.DataFrame()\n",
    "sub['id'] = test['id']\n",
    "sub['target'] = np.zeros_like(test['id'])\n",
    "test = test.drop('id', axis=1)"
   ]
  },
  {
   "cell_type": "code",
   "execution_count": 9,
   "metadata": {
    "collapsed": true
   },
   "outputs": [],
   "source": [
    "train = train.drop('id',axis=1)"
   ]
  },
  {
   "cell_type": "code",
   "execution_count": 15,
   "metadata": {
    "collapsed": true
   },
   "outputs": [],
   "source": [
    "StratifiedKFold?"
   ]
  },
  {
   "cell_type": "code",
   "execution_count": 11,
   "metadata": {},
   "outputs": [
    {
     "name": "stdout",
     "output_type": "stream",
     "text": [
      "LR kfold: 1  of  5 : \n",
      "LR kfold: 2  of  5 : \n",
      "LR kfold: 3  of  5 : \n",
      "LR kfold: 4  of  5 : \n",
      "LR kfold: 5  of  5 : \n"
     ]
    }
   ],
   "source": [
    "fea = list(train.columns)\n",
    "fea.remove('target')\n",
    "X = train[fea].values\n",
    "y = train['target']\n",
    "kfold = 5  # need to change to 5\n",
    "skf = StratifiedKFold(y, n_folds=kfold, random_state=42)\n",
    "clf = LogisticRegression(penalty='l1', C=0.25, random_state=1580)\n",
    "for i, (train_index, test_index) in enumerate(skf):\n",
    "    print('LR kfold: {}  of  {} : '.format(i + 1, kfold))\n",
    "    X_train, X_valid = X[train_index], X[test_index]\n",
    "    y_train, y_valid = y[train_index], y[test_index]\n",
    "    clf.fit(X_train, y_train) \n",
    "    sub['target'] += clf.predict_proba(test[fea])[:,1] / kfold"
   ]
  },
  {
   "cell_type": "code",
   "execution_count": 12,
   "metadata": {},
   "outputs": [
    {
     "data": {
      "text/html": [
       "<div>\n",
       "<style>\n",
       "    .dataframe thead tr:only-child th {\n",
       "        text-align: right;\n",
       "    }\n",
       "\n",
       "    .dataframe thead th {\n",
       "        text-align: left;\n",
       "    }\n",
       "\n",
       "    .dataframe tbody tr th {\n",
       "        vertical-align: top;\n",
       "    }\n",
       "</style>\n",
       "<table border=\"1\" class=\"dataframe\">\n",
       "  <thead>\n",
       "    <tr style=\"text-align: right;\">\n",
       "      <th></th>\n",
       "      <th>id</th>\n",
       "      <th>target</th>\n",
       "    </tr>\n",
       "  </thead>\n",
       "  <tbody>\n",
       "    <tr>\n",
       "      <th>0</th>\n",
       "      <td>0</td>\n",
       "      <td>0.027132</td>\n",
       "    </tr>\n",
       "    <tr>\n",
       "      <th>1</th>\n",
       "      <td>1</td>\n",
       "      <td>0.025871</td>\n",
       "    </tr>\n",
       "    <tr>\n",
       "      <th>2</th>\n",
       "      <td>2</td>\n",
       "      <td>0.034203</td>\n",
       "    </tr>\n",
       "    <tr>\n",
       "      <th>3</th>\n",
       "      <td>3</td>\n",
       "      <td>0.022911</td>\n",
       "    </tr>\n",
       "    <tr>\n",
       "      <th>4</th>\n",
       "      <td>4</td>\n",
       "      <td>0.043251</td>\n",
       "    </tr>\n",
       "  </tbody>\n",
       "</table>\n",
       "</div>"
      ],
      "text/plain": [
       "   id    target\n",
       "0   0  0.027132\n",
       "1   1  0.025871\n",
       "2   2  0.034203\n",
       "3   3  0.022911\n",
       "4   4  0.043251"
      ]
     },
     "execution_count": 12,
     "metadata": {},
     "output_type": "execute_result"
    }
   ],
   "source": [
    "sub.head()"
   ]
  },
  {
   "cell_type": "code",
   "execution_count": 13,
   "metadata": {
    "collapsed": true
   },
   "outputs": [],
   "source": [
    "sub.to_csv('sub13_lr.csv',index=False)"
   ]
  },
  {
   "cell_type": "code",
   "execution_count": null,
   "metadata": {
    "collapsed": true
   },
   "outputs": [],
   "source": []
  }
 ],
 "metadata": {
  "kernelspec": {
   "display_name": "Python 2",
   "language": "python",
   "name": "python2"
  },
  "language_info": {
   "codemirror_mode": {
    "name": "ipython",
    "version": 2
   },
   "file_extension": ".py",
   "mimetype": "text/x-python",
   "name": "python",
   "nbconvert_exporter": "python",
   "pygments_lexer": "ipython2",
   "version": "2.7.13"
  }
 },
 "nbformat": 4,
 "nbformat_minor": 2
}
