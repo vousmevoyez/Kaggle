{
 "cells": [
  {
   "cell_type": "code",
   "execution_count": null,
   "metadata": {
    "collapsed": true
   },
   "outputs": [],
   "source": [
    "from __future__ import division\n",
    "import pandas as pd\n",
    "import numpy as np\n",
    "from sklearn.model_selection import StratifiedKFold\n",
    "from sklearn.model_selection import train_test_split\n",
    "from sklearn.model_selection import RandomizedSearchCV\n",
    "from time import time\n",
    "import gc\n",
    "from sklearn.metrics import roc_auc_score\n",
    "from sklearn.model_selection import GridSearchCV\n",
    "from sklearn.ensemble import GradientBoostingClassifier\n",
    "from sklearn.ensemble import RandomForestClassifier\n",
    "from sklearn.ensemble import ExtraTreesClassifier\n",
    "from sklearn.tree import DecisionTreeClassifier"
   ]
  },
  {
   "cell_type": "code",
   "execution_count": null,
   "metadata": {
    "collapsed": true
   },
   "outputs": [],
   "source": [
    "train = pd.read_csv('C:/Users/KrystalU/Documents/Data/Driver/ohe_train.csv')\n",
    "test = pd.read_csv('C:/Users/KrystalU/Documents/Data/Driver/ohe_test.csv')"
   ]
  },
  {
   "cell_type": "code",
   "execution_count": null,
   "metadata": {
    "collapsed": true
   },
   "outputs": [],
   "source": [
    "X = train.drop(['id','target'], axis=1)\n",
    "features = X.columns\n",
    "X = X.values\n",
    "y = train['target'].values\n",
    "X_train, X_test, y_train, y_test = train_test_split(X, y, test_size=0.1, random_state=42, stratify = y)"
   ]
  },
  {
   "cell_type": "code",
   "execution_count": null,
   "metadata": {},
   "outputs": [],
   "source": [
    "gbdt_grid = {\n",
    "    'max_depth': [7,8,9],\n",
    "    'min_samples_leaf': [1,2,4],\n",
    "    'subsample': [0.9],\n",
    "    'max_features': [0.8, 1]\n",
    "}\n",
    "gbdt = GradientBoostingClassifier(n_estimators=600, \n",
    "                                  learning_rate=0.02,\n",
    "                                  random_state=2017)\n",
    "\n",
    "gbdt_gs = GridSearchCV(estimator=gbdt,\n",
    "                       param_grid = gbdt_grid,\n",
    "                       scoring = 'roc_auc',\n",
    "                       n_jobs = 2,\n",
    "                       cv = 5,\n",
    "                       verbose = 5)\n",
    "start = time()\n",
    "gbdt_gs.fit(X_train, y_train)\n",
    "print time() - start, gbdt_gs.best_params_, gbdt_gs.best_score_"
   ]
  },
  {
   "cell_type": "code",
   "execution_count": null,
   "metadata": {
    "collapsed": true
   },
   "outputs": [],
   "source": [
    "y_tes_pred = gbdt.predict_proba(X_test, y_test)"
   ]
  }
 ],
 "metadata": {
  "kernelspec": {
   "display_name": "Python 2",
   "language": "python",
   "name": "python2"
  },
  "language_info": {
   "codemirror_mode": {
    "name": "ipython",
    "version": 2
   },
   "file_extension": ".py",
   "mimetype": "text/x-python",
   "name": "python",
   "nbconvert_exporter": "python",
   "pygments_lexer": "ipython2",
   "version": "2.7.13"
  }
 },
 "nbformat": 4,
 "nbformat_minor": 2
}
