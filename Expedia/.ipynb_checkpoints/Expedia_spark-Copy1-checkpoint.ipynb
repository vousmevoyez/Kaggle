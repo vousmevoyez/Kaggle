{
 "cells": [
  {
   "cell_type": "markdown",
   "metadata": {},
   "source": [
    "# Brief Explanation\n",
    "\n",
    "## 1. Data Cleaning & Feature Engineering using Pyspark \n",
    "\n",
    "For the original data, we mainly built four kinds of new features:  \n",
    "1) Date time difference between all datetime object    \n",
    "2) booking rate for each \"user, destination\" pair  \n",
    "3) Reduction on destination latent features using PCA  \n",
    "4) 'Month' feature of search datetime, check_in_date, check_out_date (Because hotels tend to change their cluster seasonally. To capture this variation, we also included the month of each record)\n",
    "\n",
    "## 2. Evaluation Metric(MAP@5)\n",
    "\n",
    "$MAP@5 = \\frac{1}{|U|}\\sum_{u=1}^{|U|}\\sum_{k=1}^{min(5,n)}P(k)$ (Mean Average Precision@5)  \n",
    "where |U| is the number of user events, P(k) is the precision at cutoff k, n is the number\n",
    "of predicted hotel clusters\n",
    "\n",
    "## 3. Machine Learning\n",
    "\n",
    "There are two ways of looking at this problem. One is as a multi-class classification problem. After predicting the probability of each class, we return the top 5 hotel cluster. The other one is as a ranking problem. In this case, we are doing a pair-wise ranking problem for each query.\n",
    "\n",
    "For the multi-class classification case, we mainly used three models: xgboost, lightgbm and random forest. Their map@5 are respectively, 0.27, 0.05, 0.17 on the test data. For the ranking problem, we bursted each booking to 100 rows to do pair-wise ranking using xgboost. It achieves 0.05 MAP@5. The reason why ranking is bad is because most features we used in the bursted data is same among each query. To be specific, we use mainly the fixed features of each query's user and destination except booking_rate and the features regarding each hotel cluster. So there is not much variance in each query. We have checked the winning solution of this competition. Besides the features wee have used, other features he used mainly consisits of two parts: 1) Distance Matric completion 2) Factorization Machines for each of the 100 hotel clusters on all the categorical features. But we cannot reproduce the result beacuse of the huge cost in memory. Some of the categorical features have over 10000 distinct values. Our computers cannot handle that much data. Actually, the 1st placce winner's computer specification is a dual socket E5-2699v3 with ~700GB ram. More details can be checked here [Expedia 1st Solution](https://www.kaggle.com/c/expedia-hotel-recommendations/discussion/21607).\n",
    "\n",
    "*Baseline of the result*: We also have checked other people's results on Kaggle. The typical map@5 that can be achieved using xgboost is around 0.27-0.3, 0.17-0.19 for random forest. So our implementation is right. There is also a data leakage solution which can increased the result to around 0.5. And our result is also 0.5. After doing averging bagging / stacking of the models, the result can be higher. In conclusion, our implementations are right.\n",
    "\n",
    "To improve the tuning parameters speed, we used hyperopt to tune instead of GridSearch/RandomSearch of sklearn. It can achieve comparable result with much faster speed. One thing needs to be mentioned is beacause the data is very large, using CPU version of xgboost takes 8 hours to tune the parameters. So to speed up the tuning, we also tried GPU version of xgboost, which takes only 2 hours. "
   ]
  },
  {
   "cell_type": "markdown",
   "metadata": {},
   "source": [
    "## 1. Data Cleaning & Feature Engineering using Pyspark "
   ]
  },
  {
   "cell_type": "code",
   "execution_count": 2,
   "metadata": {
    "collapsed": true
   },
   "outputs": [],
   "source": [
    "from __future__ import division\n",
    "import pandas as pd\n",
    "import numpy as np\n",
    "from time import time\n",
    "from sklearn.model_selection import train_test_split\n",
    "import xgboost as xgb\n",
    "import lightgbm as lgb\n",
    "from sklearn.decomposition import PCA\n",
    "from sklearn import preprocessing\n",
    "import matplotlib.pyplot as plt\n",
    "from hyperopt import hp, tpe, STATUS_OK, Trials, fmin\n",
    "%matplotlib inline"
   ]
  },
  {
   "cell_type": "code",
   "execution_count": 2,
   "metadata": {
    "collapsed": true
   },
   "outputs": [],
   "source": [
    "from pyspark import SparkConf, SparkContext\n",
    "conf = (SparkConf()\n",
    "         .setMaster(\"local\")\n",
    "         .setAppName(\"My app\")\n",
    "         .set(\"spark.driver.memory\", \"8g\"))\n",
    "sc = SparkContext(conf = conf)"
   ]
  },
  {
   "cell_type": "code",
   "execution_count": 3,
   "metadata": {
    "collapsed": true
   },
   "outputs": [],
   "source": [
    "from pyspark.sql import SQLContext\n",
    "from pyspark.sql.types import *\n",
    "sqlContext = SQLContext(sc)"
   ]
  },
  {
   "cell_type": "code",
   "execution_count": 4,
   "metadata": {
    "collapsed": true
   },
   "outputs": [],
   "source": [
    "from pyspark.sql import functions as F\n",
    "from pyspark.sql.types import IntegerType"
   ]
  },
  {
   "cell_type": "code",
   "execution_count": 5,
   "metadata": {},
   "outputs": [
    {
     "name": "stdout",
     "output_type": "stream",
     "text": [
      "Read Time: 7.73307231665 mins\n"
     ]
    }
   ],
   "source": [
    "start = time()\n",
    "home_dir = '/home/krystalu/Data/Expedia/'\n",
    "train = sqlContext.read.load(home_dir + 'train.csv', \n",
    "                             format='com.databricks.spark.csv', \n",
    "                             header='true', \n",
    "                             inferSchema='true')\n",
    "\n",
    "test = sqlContext.read.load(home_dir + 'test.csv', \n",
    "                            format='com.databricks.spark.csv', \n",
    "                            header='true', \n",
    "                            inferSchema='true')\n",
    "\n",
    "print 'Read Time: {} mins'.format((time()-start)/60)"
   ]
  },
  {
   "cell_type": "code",
   "execution_count": 6,
   "metadata": {},
   "outputs": [
    {
     "name": "stdout",
     "output_type": "stream",
     "text": [
      "root\n",
      " |-- date_time: timestamp (nullable = true)\n",
      " |-- site_name: integer (nullable = true)\n",
      " |-- posa_continent: integer (nullable = true)\n",
      " |-- user_location_country: integer (nullable = true)\n",
      " |-- user_location_region: integer (nullable = true)\n",
      " |-- user_location_city: integer (nullable = true)\n",
      " |-- orig_destination_distance: double (nullable = true)\n",
      " |-- user_id: integer (nullable = true)\n",
      " |-- is_mobile: integer (nullable = true)\n",
      " |-- is_package: integer (nullable = true)\n",
      " |-- channel: integer (nullable = true)\n",
      " |-- srch_ci: timestamp (nullable = true)\n",
      " |-- srch_co: timestamp (nullable = true)\n",
      " |-- srch_adults_cnt: integer (nullable = true)\n",
      " |-- srch_children_cnt: integer (nullable = true)\n",
      " |-- srch_rm_cnt: integer (nullable = true)\n",
      " |-- srch_destination_id: integer (nullable = true)\n",
      " |-- srch_destination_type_id: integer (nullable = true)\n",
      " |-- is_booking: integer (nullable = true)\n",
      " |-- cnt: integer (nullable = true)\n",
      " |-- hotel_continent: integer (nullable = true)\n",
      " |-- hotel_country: integer (nullable = true)\n",
      " |-- hotel_market: integer (nullable = true)\n",
      " |-- hotel_cluster: integer (nullable = true)\n",
      "\n"
     ]
    }
   ],
   "source": [
    "# Original train data schema\n",
    "train.printSchema()"
   ]
  },
  {
   "cell_type": "code",
   "execution_count": 7,
   "metadata": {},
   "outputs": [
    {
     "data": {
      "text/plain": [
       "{'cnt', 'hotel_cluster', 'is_booking'}"
      ]
     },
     "execution_count": 7,
     "metadata": {},
     "output_type": "execute_result"
    }
   ],
   "source": [
    "# Diff of train & test columns\n",
    "set(train.columns) - set(test.columns)"
   ]
  },
  {
   "cell_type": "code",
   "execution_count": 9,
   "metadata": {},
   "outputs": [
    {
     "name": "stdout",
     "output_type": "stream",
     "text": [
      "Booking/Non-booking ratio: 8.65511283661%\n"
     ]
    }
   ],
   "source": [
    "# Booking/Non-booking ratio\n",
    "df1 = train.where(F.col('is_booking')==1)\n",
    "booking_num = df1.count()\n",
    "df2 = train.where(F.col('is_booking')==0)\n",
    "non_booking_num = df2.count()\n",
    "print 'Booking/Non-booking ratio: {}%'.format(booking_num/non_booking_num*100)\n",
    "del df1, df2"
   ]
  },
  {
   "cell_type": "markdown",
   "metadata": {},
   "source": [
    "### Features to build:\n",
    "1. Data time difference among date time features\n",
    "2. booking rate for each \"user, dest\" pair\n",
    "3. PCA for latent features\n",
    "4. \"month\" of 'date_time', 'ci', 'co'"
   ]
  },
  {
   "cell_type": "code",
   "execution_count": 8,
   "metadata": {},
   "outputs": [
    {
     "name": "stdout",
     "output_type": "stream",
     "text": [
      "True\n",
      "False\n"
     ]
    }
   ],
   "source": [
    "# Check whether user_id of test is a subset of train's user_id and vice versa\n",
    "d1 = pd.read_csv('train.csv',usecols=['user_id'])\n",
    "d2 = pd.read_csv('test.csv',usecols=['user_id']) \n",
    "print set(d2.user_id).issubset(d1.user_id)\n",
    "print set(d1.user_id).issubset(d2.user_id)\n",
    "\n",
    "# Delete users with no booking\n",
    "diff = list(set(d1.user_id) - set(d2.user_id))\n",
    "train = train.filter(~F.col('user_id').isin(diff))\n",
    "del d1, d2"
   ]
  },
  {
   "cell_type": "code",
   "execution_count": 9,
   "metadata": {
    "collapsed": true
   },
   "outputs": [],
   "source": [
    "# booking rate of each (user, destination) pair\n",
    "res = train.groupBy(\"user_id\", \"srch_destination_id\") \\\n",
    "           .agg(F.avg((F.col(\"is_booking\") == 1) \\\n",
    "           .cast(\"integer\")).alias('booking_rate'))\n",
    "train = train.join(res, [\"user_id\", \"srch_destination_id\"], 'outer')"
   ]
  },
  {
   "cell_type": "code",
   "execution_count": 10,
   "metadata": {
    "collapsed": true
   },
   "outputs": [],
   "source": [
    "# Using only the \"booking\" data as train data. \n",
    "# Because if a user didn't book, then we consider he/she is not interested.\n",
    "train = train.where(F.col('is_booking') == 1)"
   ]
  },
  {
   "cell_type": "code",
   "execution_count": 11,
   "metadata": {
    "collapsed": true
   },
   "outputs": [],
   "source": [
    "# Find the duration among \"srch_co\", \"srch_ci\", \"date_time\"\n",
    "train = train.withColumn(\"ci_co_duration\", F.datediff(F.to_date(\"srch_co\"), F.to_date(\"srch_ci\"))) \\\n",
    "             .withColumn('ci_dt_duration', F.datediff(F.to_date(\"srch_ci\"), F.to_date(\"date_time\"))) \\\n",
    "             .withColumn('co_dt_duration', F.datediff(F.to_date(\"srch_co\"), F.to_date(\"date_time\")))"
   ]
  },
  {
   "cell_type": "code",
   "execution_count": 12,
   "metadata": {
    "collapsed": true
   },
   "outputs": [],
   "source": [
    "# As per the details provided by Expedia on the competition page, \n",
    "# hotels tend to change their cluster seasonally. To capture this variation, \n",
    "# we also included the month of each record\n",
    "train = train.withColumn(\"ci_month\", F.month(train.srch_ci)) \\\n",
    "            .withColumn(\"co_month\", F.month(train.srch_co)) \\\n",
    "            .withColumn(\"dt_month\", F.month(train.date_time))"
   ]
  },
  {
   "cell_type": "code",
   "execution_count": 13,
   "metadata": {},
   "outputs": [
    {
     "name": "stdout",
     "output_type": "stream",
     "text": [
      "root\n",
      " |-- user_id: integer (nullable = true)\n",
      " |-- srch_destination_id: integer (nullable = true)\n",
      " |-- date_time: timestamp (nullable = true)\n",
      " |-- site_name: integer (nullable = true)\n",
      " |-- posa_continent: integer (nullable = true)\n",
      " |-- user_location_country: integer (nullable = true)\n",
      " |-- user_location_region: integer (nullable = true)\n",
      " |-- user_location_city: integer (nullable = true)\n",
      " |-- orig_destination_distance: double (nullable = true)\n",
      " |-- is_mobile: integer (nullable = true)\n",
      " |-- is_package: integer (nullable = true)\n",
      " |-- channel: integer (nullable = true)\n",
      " |-- srch_ci: timestamp (nullable = true)\n",
      " |-- srch_co: timestamp (nullable = true)\n",
      " |-- srch_adults_cnt: integer (nullable = true)\n",
      " |-- srch_children_cnt: integer (nullable = true)\n",
      " |-- srch_rm_cnt: integer (nullable = true)\n",
      " |-- srch_destination_type_id: integer (nullable = true)\n",
      " |-- is_booking: integer (nullable = true)\n",
      " |-- cnt: integer (nullable = true)\n",
      " |-- hotel_continent: integer (nullable = true)\n",
      " |-- hotel_country: integer (nullable = true)\n",
      " |-- hotel_market: integer (nullable = true)\n",
      " |-- hotel_cluster: integer (nullable = true)\n",
      " |-- booking_rate: double (nullable = true)\n",
      " |-- ci_co_duration: integer (nullable = true)\n",
      " |-- ci_dt_duration: integer (nullable = true)\n",
      " |-- co_dt_duration: integer (nullable = true)\n",
      " |-- ci_month: integer (nullable = true)\n",
      " |-- co_month: integer (nullable = true)\n",
      " |-- dt_month: integer (nullable = true)\n",
      "\n"
     ]
    }
   ],
   "source": [
    "# Processed train schema\n",
    "train.printSchema()"
   ]
  },
  {
   "cell_type": "code",
   "execution_count": 14,
   "metadata": {
    "collapsed": true
   },
   "outputs": [],
   "source": [
    "# Write the processed file to local\n",
    "train.coalesce(1).write.csv('train_v1.csv',header='true')"
   ]
  },
  {
   "cell_type": "code",
   "execution_count": 3,
   "metadata": {
    "collapsed": true
   },
   "outputs": [],
   "source": [
    "# Since destinations variables are measured on the same scale, so we don't need to normalize for PCA.\n",
    "dest = pd.read_csv('G:/expedia/destinations.csv')\n",
    "dest_id = dest['srch_destination_id']\n",
    "dest.drop('srch_destination_id', axis=1, inplace=True)"
   ]
  },
  {
   "cell_type": "code",
   "execution_count": 4,
   "metadata": {
    "collapsed": true
   },
   "outputs": [],
   "source": [
    "# Reconstruction error VS n_components\n",
    "n_comp = range(121)\n",
    "errors = []\n",
    "for item in n_comp:\n",
    "    pca = PCA(n_components=item)\n",
    "    dest_pca = pca.fit_transform(dest)\n",
    "    dest_proj = pca.inverse_transform(dest_pca)\n",
    "    # MSE Error\n",
    "    loss = np.mean(np.mean(((dest - dest_proj)**2)))\n",
    "    errors.append(loss)"
   ]
  },
  {
   "cell_type": "code",
   "execution_count": 5,
   "metadata": {},
   "outputs": [
    {
     "data": {
      "text/plain": [
       "Text(0,0.5,u'Reconstruct Error')"
      ]
     },
     "execution_count": 5,
     "metadata": {},
     "output_type": "execute_result"
    },
    {
     "data": {
      "image/png": "[encoded data removed]",
      "text/plain": [
       "<matplotlib.figure.Figure at 0x7f2e82c7be50>"
      ]
     },
     "metadata": {},
     "output_type": "display_data"
    }
   ],
   "source": [
    "plt.plot(n_comp, errors, '-')\n",
    "plt.xlabel(\"n_components\")\n",
    "plt.ylabel(\"Reconstruct Error\")"
   ]
  },
  {
   "cell_type": "code",
   "execution_count": 4,
   "metadata": {},
   "outputs": [
    {
     "name": "stdout",
     "output_type": "stream",
     "text": [
      "n_components=20 cummulative explained varaiance ratio: 0.831960789047\n"
     ]
    }
   ],
   "source": [
    "\"\"\"\n",
    "Since the first 20 components have explained 83% of the total variance, it's enough.\n",
    "\"\"\"\n",
    "pca_20 = PCA(n_components=20)\n",
    "pca_20.fit(dest)\n",
    "print 'n_components=20 cummulative explained varaiance ratio: {}' \\\n",
    "        .format(np.cumsum(pca_20.explained_variance_ratio_)[-1])"
   ]
  },
  {
   "cell_type": "code",
   "execution_count": 5,
   "metadata": {
    "collapsed": true
   },
   "outputs": [],
   "source": [
    "dest_trans = pca_20.transform(dest)"
   ]
  },
  {
   "cell_type": "code",
   "execution_count": 6,
   "metadata": {},
   "outputs": [
    {
     "data": {
      "text/html": [
       "<div>\n",
       "<style>\n",
       "    .dataframe thead tr:only-child th {\n",
       "        text-align: right;\n",
       "    }\n",
       "\n",
       "    .dataframe thead th {\n",
       "        text-align: left;\n",
       "    }\n",
       "\n",
       "    .dataframe tbody tr th {\n",
       "        vertical-align: top;\n",
       "    }\n",
       "</style>\n",
       "<table border=\"1\" class=\"dataframe\">\n",
       "  <thead>\n",
       "    <tr style=\"text-align: right;\">\n",
       "      <th></th>\n",
       "      <th>0</th>\n",
       "      <th>1</th>\n",
       "      <th>2</th>\n",
       "      <th>3</th>\n",
       "      <th>4</th>\n",
       "      <th>5</th>\n",
       "      <th>6</th>\n",
       "      <th>7</th>\n",
       "      <th>8</th>\n",
       "      <th>9</th>\n",
       "      <th>...</th>\n",
       "      <th>11</th>\n",
       "      <th>12</th>\n",
       "      <th>13</th>\n",
       "      <th>14</th>\n",
       "      <th>15</th>\n",
       "      <th>16</th>\n",
       "      <th>17</th>\n",
       "      <th>18</th>\n",
       "      <th>19</th>\n",
       "      <th>srch_destination_id</th>\n",
       "    </tr>\n",
       "  </thead>\n",
       "  <tbody>\n",
       "    <tr>\n",
       "      <th>0</th>\n",
       "      <td>-0.044268</td>\n",
       "      <td>0.169419</td>\n",
       "      <td>0.032522</td>\n",
       "      <td>-0.014270</td>\n",
       "      <td>-0.069688</td>\n",
       "      <td>-0.012307</td>\n",
       "      <td>-0.169771</td>\n",
       "      <td>0.173699</td>\n",
       "      <td>-0.201270</td>\n",
       "      <td>0.083227</td>\n",
       "      <td>...</td>\n",
       "      <td>0.043057</td>\n",
       "      <td>0.049437</td>\n",
       "      <td>0.048940</td>\n",
       "      <td>0.095843</td>\n",
       "      <td>-0.113653</td>\n",
       "      <td>-0.090336</td>\n",
       "      <td>0.030543</td>\n",
       "      <td>-0.047528</td>\n",
       "      <td>-0.118431</td>\n",
       "      <td>0</td>\n",
       "    </tr>\n",
       "    <tr>\n",
       "      <th>1</th>\n",
       "      <td>-0.440761</td>\n",
       "      <td>0.077405</td>\n",
       "      <td>-0.091572</td>\n",
       "      <td>-0.020229</td>\n",
       "      <td>0.013213</td>\n",
       "      <td>0.029696</td>\n",
       "      <td>-0.013491</td>\n",
       "      <td>0.007494</td>\n",
       "      <td>-0.031695</td>\n",
       "      <td>-0.028785</td>\n",
       "      <td>...</td>\n",
       "      <td>-0.001340</td>\n",
       "      <td>-0.023608</td>\n",
       "      <td>0.037209</td>\n",
       "      <td>-0.009620</td>\n",
       "      <td>0.036719</td>\n",
       "      <td>0.038193</td>\n",
       "      <td>0.012115</td>\n",
       "      <td>0.022869</td>\n",
       "      <td>0.001225</td>\n",
       "      <td>1</td>\n",
       "    </tr>\n",
       "    <tr>\n",
       "      <th>2</th>\n",
       "      <td>0.001033</td>\n",
       "      <td>0.020677</td>\n",
       "      <td>0.012109</td>\n",
       "      <td>0.134141</td>\n",
       "      <td>0.142033</td>\n",
       "      <td>0.088819</td>\n",
       "      <td>-0.143692</td>\n",
       "      <td>0.089174</td>\n",
       "      <td>0.172447</td>\n",
       "      <td>-0.038028</td>\n",
       "      <td>...</td>\n",
       "      <td>0.031662</td>\n",
       "      <td>-0.061882</td>\n",
       "      <td>-0.040596</td>\n",
       "      <td>-0.081329</td>\n",
       "      <td>-0.025798</td>\n",
       "      <td>-0.063630</td>\n",
       "      <td>0.000149</td>\n",
       "      <td>0.030590</td>\n",
       "      <td>-0.028522</td>\n",
       "      <td>2</td>\n",
       "    </tr>\n",
       "    <tr>\n",
       "      <th>3</th>\n",
       "      <td>-0.480467</td>\n",
       "      <td>-0.040345</td>\n",
       "      <td>-0.019320</td>\n",
       "      <td>-0.040100</td>\n",
       "      <td>-0.027393</td>\n",
       "      <td>0.017351</td>\n",
       "      <td>0.029537</td>\n",
       "      <td>0.033168</td>\n",
       "      <td>-0.026522</td>\n",
       "      <td>0.042434</td>\n",
       "      <td>...</td>\n",
       "      <td>0.024484</td>\n",
       "      <td>0.001669</td>\n",
       "      <td>-0.000199</td>\n",
       "      <td>0.022460</td>\n",
       "      <td>-0.002101</td>\n",
       "      <td>0.004284</td>\n",
       "      <td>0.017831</td>\n",
       "      <td>0.000826</td>\n",
       "      <td>-0.016131</td>\n",
       "      <td>3</td>\n",
       "    </tr>\n",
       "    <tr>\n",
       "      <th>4</th>\n",
       "      <td>-0.207253</td>\n",
       "      <td>-0.042694</td>\n",
       "      <td>-0.011744</td>\n",
       "      <td>-0.017521</td>\n",
       "      <td>-0.019865</td>\n",
       "      <td>-0.037971</td>\n",
       "      <td>-0.036595</td>\n",
       "      <td>-0.004304</td>\n",
       "      <td>-0.007717</td>\n",
       "      <td>0.010025</td>\n",
       "      <td>...</td>\n",
       "      <td>-0.022285</td>\n",
       "      <td>0.005150</td>\n",
       "      <td>-0.000260</td>\n",
       "      <td>0.034593</td>\n",
       "      <td>-0.070210</td>\n",
       "      <td>-0.026219</td>\n",
       "      <td>-0.031342</td>\n",
       "      <td>-0.014211</td>\n",
       "      <td>0.021995</td>\n",
       "      <td>4</td>\n",
       "    </tr>\n",
       "  </tbody>\n",
       "</table>\n",
       "<p>5 rows × 21 columns</p>\n",
       "</div>"
      ],
      "text/plain": [
       "          0         1         2         3         4         5         6  \\\n",
       "0 -0.044268  0.169419  0.032522 -0.014270 -0.069688 -0.012307 -0.169771   \n",
       "1 -0.440761  0.077405 -0.091572 -0.020229  0.013213  0.029696 -0.013491   \n",
       "2  0.001033  0.020677  0.012109  0.134141  0.142033  0.088819 -0.143692   \n",
       "3 -0.480467 -0.040345 -0.019320 -0.040100 -0.027393  0.017351  0.029537   \n",
       "4 -0.207253 -0.042694 -0.011744 -0.017521 -0.019865 -0.037971 -0.036595   \n",
       "\n",
       "          7         8         9         ...                 11        12  \\\n",
       "0  0.173699 -0.201270  0.083227         ...           0.043057  0.049437   \n",
       "1  0.007494 -0.031695 -0.028785         ...          -0.001340 -0.023608   \n",
       "2  0.089174  0.172447 -0.038028         ...           0.031662 -0.061882   \n",
       "3  0.033168 -0.026522  0.042434         ...           0.024484  0.001669   \n",
       "4 -0.004304 -0.007717  0.010025         ...          -0.022285  0.005150   \n",
       "\n",
       "         13        14        15        16        17        18        19  \\\n",
       "0  0.048940  0.095843 -0.113653 -0.090336  0.030543 -0.047528 -0.118431   \n",
       "1  0.037209 -0.009620  0.036719  0.038193  0.012115  0.022869  0.001225   \n",
       "2 -0.040596 -0.081329 -0.025798 -0.063630  0.000149  0.030590 -0.028522   \n",
       "3 -0.000199  0.022460 -0.002101  0.004284  0.017831  0.000826 -0.016131   \n",
       "4 -0.000260  0.034593 -0.070210 -0.026219 -0.031342 -0.014211  0.021995   \n",
       "\n",
       "   srch_destination_id  \n",
       "0                    0  \n",
       "1                    1  \n",
       "2                    2  \n",
       "3                    3  \n",
       "4                    4  \n",
       "\n",
       "[5 rows x 21 columns]"
      ]
     },
     "execution_count": 6,
     "metadata": {},
     "output_type": "execute_result"
    }
   ],
   "source": [
    "dest_df = pd.DataFrame(dest_trans)\n",
    "dest_df['srch_destination_id'] = dest_id\n",
    "dest_df.head()"
   ]
  },
  {
   "cell_type": "code",
   "execution_count": 7,
   "metadata": {},
   "outputs": [
    {
     "data": {
      "text/html": [
       "<div>\n",
       "<style>\n",
       "    .dataframe thead tr:only-child th {\n",
       "        text-align: right;\n",
       "    }\n",
       "\n",
       "    .dataframe thead th {\n",
       "        text-align: left;\n",
       "    }\n",
       "\n",
       "    .dataframe tbody tr th {\n",
       "        vertical-align: top;\n",
       "    }\n",
       "</style>\n",
       "<table border=\"1\" class=\"dataframe\">\n",
       "  <thead>\n",
       "    <tr style=\"text-align: right;\">\n",
       "      <th></th>\n",
       "      <th>user_id</th>\n",
       "      <th>srch_destination_id</th>\n",
       "      <th>date_time</th>\n",
       "      <th>site_name</th>\n",
       "      <th>posa_continent</th>\n",
       "      <th>user_location_country</th>\n",
       "      <th>user_location_region</th>\n",
       "      <th>user_location_city</th>\n",
       "      <th>orig_destination_distance</th>\n",
       "      <th>is_mobile</th>\n",
       "      <th>...</th>\n",
       "      <th>10</th>\n",
       "      <th>11</th>\n",
       "      <th>12</th>\n",
       "      <th>13</th>\n",
       "      <th>14</th>\n",
       "      <th>15</th>\n",
       "      <th>16</th>\n",
       "      <th>17</th>\n",
       "      <th>18</th>\n",
       "      <th>19</th>\n",
       "    </tr>\n",
       "  </thead>\n",
       "  <tbody>\n",
       "    <tr>\n",
       "      <th>0</th>\n",
       "      <td>46</td>\n",
       "      <td>27256</td>\n",
       "      <td>2014-10-21T21:47:51.000-04:00</td>\n",
       "      <td>2</td>\n",
       "      <td>3</td>\n",
       "      <td>66</td>\n",
       "      <td>258</td>\n",
       "      <td>4687</td>\n",
       "      <td>307.9863</td>\n",
       "      <td>0</td>\n",
       "      <td>...</td>\n",
       "      <td>0.215402</td>\n",
       "      <td>-0.280355</td>\n",
       "      <td>0.191237</td>\n",
       "      <td>-0.082040</td>\n",
       "      <td>-0.057577</td>\n",
       "      <td>0.118205</td>\n",
       "      <td>0.020312</td>\n",
       "      <td>0.024700</td>\n",
       "      <td>-0.093515</td>\n",
       "      <td>-0.050814</td>\n",
       "    </tr>\n",
       "    <tr>\n",
       "      <th>1</th>\n",
       "      <td>257</td>\n",
       "      <td>8266</td>\n",
       "      <td>2014-12-23T07:45:24.000-05:00</td>\n",
       "      <td>2</td>\n",
       "      <td>3</td>\n",
       "      <td>66</td>\n",
       "      <td>447</td>\n",
       "      <td>25977</td>\n",
       "      <td>1415.9458</td>\n",
       "      <td>0</td>\n",
       "      <td>...</td>\n",
       "      <td>-0.039101</td>\n",
       "      <td>0.098384</td>\n",
       "      <td>0.088709</td>\n",
       "      <td>-0.010701</td>\n",
       "      <td>-0.031861</td>\n",
       "      <td>-0.012642</td>\n",
       "      <td>-0.095285</td>\n",
       "      <td>-0.019206</td>\n",
       "      <td>-0.036384</td>\n",
       "      <td>0.121745</td>\n",
       "    </tr>\n",
       "    <tr>\n",
       "      <th>2</th>\n",
       "      <td>327</td>\n",
       "      <td>24192</td>\n",
       "      <td>2014-09-30T11:54:45.000-04:00</td>\n",
       "      <td>2</td>\n",
       "      <td>3</td>\n",
       "      <td>66</td>\n",
       "      <td>356</td>\n",
       "      <td>22202</td>\n",
       "      <td>485.5027</td>\n",
       "      <td>0</td>\n",
       "      <td>...</td>\n",
       "      <td>-0.008414</td>\n",
       "      <td>0.029675</td>\n",
       "      <td>0.057691</td>\n",
       "      <td>0.072057</td>\n",
       "      <td>0.002104</td>\n",
       "      <td>-0.096640</td>\n",
       "      <td>-0.016063</td>\n",
       "      <td>-0.007673</td>\n",
       "      <td>-0.037920</td>\n",
       "      <td>-0.039683</td>\n",
       "    </tr>\n",
       "    <tr>\n",
       "      <th>3</th>\n",
       "      <td>449</td>\n",
       "      <td>25698</td>\n",
       "      <td>2014-10-10T14:50:12.000-04:00</td>\n",
       "      <td>2</td>\n",
       "      <td>3</td>\n",
       "      <td>35</td>\n",
       "      <td>308</td>\n",
       "      <td>6976</td>\n",
       "      <td>5872.8558</td>\n",
       "      <td>0</td>\n",
       "      <td>...</td>\n",
       "      <td>0.007028</td>\n",
       "      <td>-0.039223</td>\n",
       "      <td>-0.053029</td>\n",
       "      <td>0.015750</td>\n",
       "      <td>0.012218</td>\n",
       "      <td>0.055133</td>\n",
       "      <td>-0.031054</td>\n",
       "      <td>0.031508</td>\n",
       "      <td>0.077026</td>\n",
       "      <td>0.047747</td>\n",
       "    </tr>\n",
       "    <tr>\n",
       "      <th>4</th>\n",
       "      <td>550</td>\n",
       "      <td>8235</td>\n",
       "      <td>2014-07-07T07:31:48.000-04:00</td>\n",
       "      <td>2</td>\n",
       "      <td>3</td>\n",
       "      <td>66</td>\n",
       "      <td>260</td>\n",
       "      <td>49163</td>\n",
       "      <td>717.4321</td>\n",
       "      <td>0</td>\n",
       "      <td>...</td>\n",
       "      <td>0.068380</td>\n",
       "      <td>-0.074229</td>\n",
       "      <td>0.043697</td>\n",
       "      <td>0.050633</td>\n",
       "      <td>-0.070976</td>\n",
       "      <td>0.006733</td>\n",
       "      <td>0.003723</td>\n",
       "      <td>-0.023070</td>\n",
       "      <td>0.025469</td>\n",
       "      <td>0.037871</td>\n",
       "    </tr>\n",
       "  </tbody>\n",
       "</table>\n",
       "<p>5 rows × 51 columns</p>\n",
       "</div>"
      ],
      "text/plain": [
       "   user_id  srch_destination_id                      date_time  site_name  \\\n",
       "0       46                27256  2014-10-21T21:47:51.000-04:00          2   \n",
       "1      257                 8266  2014-12-23T07:45:24.000-05:00          2   \n",
       "2      327                24192  2014-09-30T11:54:45.000-04:00          2   \n",
       "3      449                25698  2014-10-10T14:50:12.000-04:00          2   \n",
       "4      550                 8235  2014-07-07T07:31:48.000-04:00          2   \n",
       "\n",
       "   posa_continent  user_location_country  user_location_region  \\\n",
       "0               3                     66                   258   \n",
       "1               3                     66                   447   \n",
       "2               3                     66                   356   \n",
       "3               3                     35                   308   \n",
       "4               3                     66                   260   \n",
       "\n",
       "   user_location_city  orig_destination_distance  is_mobile    ...     \\\n",
       "0                4687                   307.9863          0    ...      \n",
       "1               25977                  1415.9458          0    ...      \n",
       "2               22202                   485.5027          0    ...      \n",
       "3                6976                  5872.8558          0    ...      \n",
       "4               49163                   717.4321          0    ...      \n",
       "\n",
       "         10        11        12        13        14        15        16  \\\n",
       "0  0.215402 -0.280355  0.191237 -0.082040 -0.057577  0.118205  0.020312   \n",
       "1 -0.039101  0.098384  0.088709 -0.010701 -0.031861 -0.012642 -0.095285   \n",
       "2 -0.008414  0.029675  0.057691  0.072057  0.002104 -0.096640 -0.016063   \n",
       "3  0.007028 -0.039223 -0.053029  0.015750  0.012218  0.055133 -0.031054   \n",
       "4  0.068380 -0.074229  0.043697  0.050633 -0.070976  0.006733  0.003723   \n",
       "\n",
       "         17        18        19  \n",
       "0  0.024700 -0.093515 -0.050814  \n",
       "1 -0.019206 -0.036384  0.121745  \n",
       "2 -0.007673 -0.037920 -0.039683  \n",
       "3  0.031508  0.077026  0.047747  \n",
       "4 -0.023070  0.025469  0.037871  \n",
       "\n",
       "[5 rows x 51 columns]"
      ]
     },
     "execution_count": 7,
     "metadata": {},
     "output_type": "execute_result"
    }
   ],
   "source": [
    "# Read train_v1, latent features file and merge them\n",
    "train = pd.read_csv('G:/expedia/train_v1.csv')\n",
    "train = pd.merge(train, dest_df, on = 'srch_destination_id', how = 'left')\n",
    "train.head()"
   ]
  },
  {
   "cell_type": "code",
   "execution_count": 8,
   "metadata": {
    "collapsed": true
   },
   "outputs": [],
   "source": [
    "# drop useless columns\n",
    "train.drop(['is_booking', 'cnt', \"srch_ci\", \"srch_co\", \"date_time\"],\n",
    "           axis=1, inplace=True)"
   ]
  },
  {
   "cell_type": "code",
   "execution_count": 9,
   "metadata": {
    "collapsed": true
   },
   "outputs": [],
   "source": [
    "# Write to local and merge_train is the final train data.\n",
    "train.to_csv('G:/expedia/merge_train.csv',index=False)"
   ]
  },
  {
   "cell_type": "markdown",
   "metadata": {},
   "source": [
    "======================================="
   ]
  },
  {
   "cell_type": "code",
   "execution_count": 23,
   "metadata": {
    "collapsed": true
   },
   "outputs": [],
   "source": [
    "# Since the data is large, training the while data takes long to finish. So we only subsample 5%.\n",
    "train = pd.read_csv('G:/expedia/merge_train.csv')\n",
    "train = train.sample(frac=0.05, random_state=2016)"
   ]
  },
  {
   "cell_type": "code",
   "execution_count": 24,
   "metadata": {
    "collapsed": true
   },
   "outputs": [],
   "source": [
    "train = train.groupby(['user_id', 'srch_destination_id']).filter(lambda x: len(x) == 1)"
   ]
  },
  {
   "cell_type": "code",
   "execution_count": 27,
   "metadata": {
    "collapsed": true
   },
   "outputs": [],
   "source": [
    "# Train test split\n",
    "y = train['hotel_cluster']\n",
    "drop_col = ['hotel_cluster']\n",
    "train.drop(drop_col, axis=1, inplace=True)\n",
    "X_train, X_test, y_train, y_test = train_test_split(train, y, stratify=y, test_size=0.2)"
   ]
  },
  {
   "cell_type": "code",
   "execution_count": 28,
   "metadata": {
    "collapsed": true
   },
   "outputs": [],
   "source": [
    "# train and test group size for later xgboost ranking task.\n",
    "tra_grp_size = len(X_train)\n",
    "tes_grp_size = len(X_test)"
   ]
  },
  {
   "cell_type": "code",
   "execution_count": 33,
   "metadata": {
    "collapsed": true
   },
   "outputs": [],
   "source": [
    "# Since we are going to do ranking with xgboost, then we need to burst rach booking into 100 rows for the 100 hotel clusters.\n",
    "def burst(df):\n",
    "    # Cartesian product to burst each booking\n",
    "    uni = df[['user_id', 'srch_destination_id']]\n",
    "    uni['key'] = 1\n",
    "    cluster = pd.DataFrame({'hotel_cluster': np.arange(1,101)})\n",
    "    cluster['key'] = 1\n",
    "    burst = pd.merge(uni, cluster, on='key')[['user_id', 'srch_destination_id', 'hotel_cluster']]\n",
    "    \n",
    "    # Join fixed & cluster attributes to the bursted dataframe\n",
    "    df['hotel_cluster'] = y_train\n",
    "    cluster_attr = ['hotel_continent','hotel_country', 'hotel_market', 'booking_rate']\n",
    "    fixed_attr = list(set(df.columns)-set(cluster_attr))\n",
    "    cluster_attr.extend(['user_id', 'srch_destination_id', 'hotel_cluster'])\n",
    "\n",
    "    burst = pd.merge(burst, df[cluster_attr], on=['user_id', 'srch_destination_id', 'hotel_cluster'], how='left')\n",
    "    burst['booking_rate'].fillna(0, inplace=True)\n",
    "    burst.drop(['hotel_cluster'], axis=1, inplace=True)\n",
    "    burst = pd.merge(burst, df[fixed_attr], on=['user_id', 'srch_destination_id'], how='left')\n",
    "    return burst"
   ]
  },
  {
   "cell_type": "code",
   "execution_count": 34,
   "metadata": {},
   "outputs": [
    {
     "name": "stderr",
     "output_type": "stream",
     "text": [
      "D:\\Anaconda2\\lib\\site-packages\\ipykernel_launcher.py:3: SettingWithCopyWarning: \n",
      "A value is trying to be set on a copy of a slice from a DataFrame.\n",
      "Try using .loc[row_indexer,col_indexer] = value instead\n",
      "\n",
      "See the caveats in the documentation: http://pandas.pydata.org/pandas-docs/stable/indexing.html#indexing-view-versus-copy\n",
      "  This is separate from the ipykernel package so we can avoid doing imports until\n",
      "D:\\Anaconda2\\lib\\site-packages\\ipykernel_launcher.py:8: SettingWithCopyWarning: \n",
      "A value is trying to be set on a copy of a slice from a DataFrame.\n",
      "Try using .loc[row_indexer,col_indexer] = value instead\n",
      "\n",
      "See the caveats in the documentation: http://pandas.pydata.org/pandas-docs/stable/indexing.html#indexing-view-versus-copy\n",
      "  \n"
     ]
    }
   ],
   "source": [
    "X_train, X_test = burst(X_train), burst(X_test)\n",
    "y_train = X_train['hotel_cluster']\n",
    "X_train.drop(['hotel_cluster'], axis=1, inplace=True)\n",
    "y_test = X_test['hotel_cluster']\n",
    "X_test.drop(['hotel_cluster'], axis=1, inplace=True)"
   ]
  },
  {
   "cell_type": "markdown",
   "metadata": {},
   "source": [
    "## 2. Machine Learning"
   ]
  },
  {
   "cell_type": "markdown",
   "metadata": {},
   "source": [
    "## 1) XGB GPU Tuning & Training"
   ]
  },
  {
   "cell_type": "code",
   "execution_count": 38,
   "metadata": {
    "collapsed": true
   },
   "outputs": [],
   "source": [
    "tra_grp_size = np.ones(tra_grp_size,dtype=int) * 100\n",
    "tes_grp_size = np.ones(tes_grp_size,dtype=int) * 100"
   ]
  },
  {
   "cell_type": "code",
   "execution_count": 39,
   "metadata": {
    "collapsed": true
   },
   "outputs": [],
   "source": [
    "dtrain = xgb.DMatrix(X_train,label=y_train)\n",
    "dtrain.set_group(tra_grp_size)\n",
    "dtest = xgb.DMatrix(X_test,label=y_test)\n",
    "dtest.set_group(tes_grp_size)"
   ]
  },
  {
   "cell_type": "code",
   "execution_count": 41,
   "metadata": {},
   "outputs": [
    {
     "name": "stdout",
     "output_type": "stream",
     "text": [
      "[0]\ttrain-map@5:0.056245\tvalidation-map@5:0.05\n",
      "Multiple eval metrics have been passed: 'validation-map@5' will be used for early stopping.\n",
      "\n",
      "Will train until validation-map@5 hasn't improved in 50 rounds.\n",
      "[9]\ttrain-map@5:0.056245\tvalidation-map@5:0.05\n",
      "Time: 0.294099998474 mins\n"
     ]
    }
   ],
   "source": [
    "start = time()\n",
    "\n",
    "params = {  'objective':\"rank:pairwise\" ,\n",
    "            'eval_metric': 'map@5',\n",
    "            'seed' : 2016,  \n",
    "            'eta': 0.1,\n",
    "            'max_depth': 7,\n",
    "            'min_child_weight': 17,\n",
    "            'colsample_bytree': 0.9,\n",
    "            'max_delta_step': 1.6,\n",
    "            'subsample': 0.85,\n",
    "         }\n",
    "\n",
    "# xgb gpu\n",
    "params['gpu_id'] = 0\n",
    "params['max_bin'] = 16\n",
    "params['tree_method'] = 'gpu_hist'\n",
    "\n",
    "num_rounds=10\n",
    "watchlist = [(dtrain,'train'), (dtest,'validation')]\n",
    "xgb_model = xgb.train(params, \n",
    "                      dtrain = dtrain, \n",
    "                      num_boost_round = num_rounds, \n",
    "                      evals = watchlist, \n",
    "                      early_stopping_rounds = 50,\n",
    "                      verbose_eval = 10,\n",
    "                      maximize = True) \n",
    "print('Time: {} mins'.format((time()-start)/60))"
   ]
  },
  {
   "cell_type": "code",
   "execution_count": 12,
   "metadata": {
    "collapsed": true
   },
   "outputs": [],
   "source": [
    "pred = xgb_model.predict(dtest)"
   ]
  },
  {
   "cell_type": "code",
   "execution_count": 13,
   "metadata": {},
   "outputs": [
    {
     "data": {
      "text/plain": [
       "593757"
      ]
     },
     "execution_count": 13,
     "metadata": {},
     "output_type": "execute_result"
    }
   ],
   "source": [
    "len(y_test)"
   ]
  },
  {
   "cell_type": "code",
   "execution_count": 14,
   "metadata": {},
   "outputs": [
    {
     "data": {
      "text/plain": [
       "array([ 0.4935382 ,  0.49807411,  0.50244343, ...,  0.50518835,\n",
       "        0.51187915,  0.50371248], dtype=float32)"
      ]
     },
     "execution_count": 14,
     "metadata": {},
     "output_type": "execute_result"
    }
   ],
   "source": [
    "pred"
   ]
  },
  {
   "cell_type": "markdown",
   "metadata": {},
   "source": [
    "## 2) XGB CPU Tuning & Training"
   ]
  },
  {
   "cell_type": "code",
   "execution_count": 3,
   "metadata": {
    "collapsed": true
   },
   "outputs": [],
   "source": [
    "train = pd.read_csv('G:/expedia/merge_train.csv')\n",
    "train = train.sample(frac=0.05, random_state=2016)"
   ]
  },
  {
   "cell_type": "code",
   "execution_count": 4,
   "metadata": {
    "collapsed": true
   },
   "outputs": [],
   "source": [
    "y = train['hotel_cluster']\n",
    "drop_col = ['hotel_cluster']\n",
    "train.drop(drop_col, axis=1, inplace=True)\n",
    "X_train, X_test, y_train, y_test = train_test_split(train, y, stratify=y, test_size=0.2)"
   ]
  },
  {
   "cell_type": "code",
   "execution_count": 5,
   "metadata": {
    "collapsed": true
   },
   "outputs": [],
   "source": [
    "dtrain = xgb.DMatrix(X_train,label=y_train)\n",
    "dtest = xgb.DMatrix(X_test,label=y_test)"
   ]
  },
  {
   "cell_type": "code",
   "execution_count": 6,
   "metadata": {
    "collapsed": true
   },
   "outputs": [],
   "source": [
    "# MAP@5 Evaluation function of XGB\n",
    "def map_xgb(preds, dtrain):\n",
    "    actual = dtrain.get_label()\n",
    "    predicted = preds.argsort(axis=1)[:,-np.arange(1,6)]\n",
    "    metric = 0.\n",
    "    for i in range(5):\n",
    "        metric += np.sum(actual==predicted[:,i])/(i+1)\n",
    "    metric /= actual.shape[0]\n",
    "    return 'MAP@5', metric"
   ]
  },
  {
   "cell_type": "code",
   "execution_count": 7,
   "metadata": {
    "collapsed": true
   },
   "outputs": [],
   "source": [
    "# evaluation function used in hyperopt\n",
    "def xgb_cv(preds, actual):\n",
    "    predicted = preds.argsort(axis=1)[:,-np.arange(1,6)]\n",
    "    metric = 0.\n",
    "    for i in range(5):\n",
    "        metric += np.sum(actual==predicted[:,i])/(i+1)\n",
    "    metric /= actual.shape[0]\n",
    "    return metric"
   ]
  },
  {
   "cell_type": "code",
   "execution_count": 8,
   "metadata": {
    "scrolled": true
   },
   "outputs": [
    {
     "name": "stdout",
     "output_type": "stream",
     "text": [
      "[0]\ttrain-merror:0.907201\tvalidation-merror:0.914982\ttrain-MAP@5:0.195714\tvalidation-MAP@5:0.183659\n",
      "Multiple eval metrics have been passed: 'validation-MAP@5' will be used for early stopping.\n",
      "\n",
      "Will train until validation-MAP@5 hasn't improved in 50 rounds.\n",
      "[30]\ttrain-merror:0.593393\tvalidation-merror:0.844281\ttrain-MAP@5:0.543807\tvalidation-MAP@5:0.263729\n",
      "[60]\ttrain-merror:0.347307\tvalidation-merror:0.848963\ttrain-MAP@5:0.758503\tvalidation-MAP@5:0.257948\n",
      "Stopping. Best iteration:\n",
      "[17]\ttrain-merror:0.70252\tvalidation-merror:0.841182\ttrain-MAP@5:0.433254\tvalidation-MAP@5:0.265026\n",
      "\n",
      "[0]\ttrain-merror:0.9215\tvalidation-merror:0.924481\ttrain-MAP@5:0.167644\tvalidation-MAP@5:0.163007\n",
      "Multiple eval metrics have been passed: 'validation-MAP@5' will be used for early stopping.\n",
      "\n",
      "Will train until validation-MAP@5 hasn't improved in 50 rounds.\n",
      "[30]\ttrain-merror:0.67314\tvalidation-merror:0.844651\ttrain-MAP@5:0.463504\tvalidation-MAP@5:0.26283\n",
      "[60]\ttrain-merror:0.506884\tvalidation-merror:0.844921\ttrain-MAP@5:0.62376\tvalidation-MAP@5:0.260525\n",
      "[90]\ttrain-merror:0.361765\tvalidation-merror:0.849906\ttrain-MAP@5:0.747411\tvalidation-MAP@5:0.254437\n",
      "Stopping. Best iteration:\n",
      "[46]\ttrain-merror:0.58253\tvalidation-merror:0.843742\ttrain-MAP@5:0.553624\tvalidation-MAP@5:0.262963\n",
      "\n",
      "[0]\ttrain-merror:0.93355\tvalidation-merror:0.936068\ttrain-MAP@5:0.146034\tvalidation-MAP@5:0.13614\n",
      "Multiple eval metrics have been passed: 'validation-MAP@5' will be used for early stopping.\n",
      "\n",
      "Will train until validation-MAP@5 hasn't improved in 50 rounds.\n",
      "[30]\ttrain-merror:0.532189\tvalidation-merror:0.846773\ttrain-MAP@5:0.603007\tvalidation-MAP@5:0.2621\n",
      "[60]\ttrain-merror:0.247762\tvalidation-merror:0.851085\ttrain-MAP@5:0.835264\tvalidation-MAP@5:0.254893\n",
      "Stopping. Best iteration:\n",
      "[17]\ttrain-merror:0.667514\tvalidation-merror:0.8429\ttrain-MAP@5:0.47188\tvalidation-MAP@5:0.265465\n",
      "\n",
      "[0]\ttrain-merror:0.911133\tvalidation-merror:0.916532\ttrain-MAP@5:0.185579\tvalidation-MAP@5:0.177463\n",
      "Multiple eval metrics have been passed: 'validation-MAP@5' will be used for early stopping.\n",
      "\n",
      "Will train until validation-MAP@5 hasn't improved in 50 rounds.\n",
      "[30]\ttrain-merror:0.635287\tvalidation-merror:0.839801\ttrain-MAP@5:0.50124\tvalidation-MAP@5:0.267221\n",
      "[60]\ttrain-merror:0.435154\tvalidation-merror:0.844146\ttrain-MAP@5:0.685823\tvalidation-MAP@5:0.263906\n",
      "Stopping. Best iteration:\n",
      "[38]\ttrain-merror:0.580197\tvalidation-merror:0.839834\ttrain-MAP@5:0.555141\tvalidation-MAP@5:0.267554\n",
      "\n",
      "[0]\ttrain-merror:0.90971\tvalidation-merror:0.915353\ttrain-MAP@5:0.19379\tvalidation-MAP@5:0.183644\n",
      "Multiple eval metrics have been passed: 'validation-MAP@5' will be used for early stopping.\n",
      "\n",
      "Will train until validation-MAP@5 hasn't improved in 50 rounds.\n",
      "[30]\ttrain-merror:0.755286\tvalidation-merror:0.840878\ttrain-MAP@5:0.37508\tvalidation-MAP@5:0.267188\n",
      "[60]\ttrain-merror:0.652693\tvalidation-merror:0.836769\ttrain-MAP@5:0.486072\tvalidation-MAP@5:0.272277\n",
      "[90]\ttrain-merror:0.544661\tvalidation-merror:0.837914\ttrain-MAP@5:0.589984\tvalidation-MAP@5:0.271257\n",
      "[120]\ttrain-merror:0.4452\tvalidation-merror:0.839902\ttrain-MAP@5:0.678109\tvalidation-MAP@5:0.269035\n",
      "Stopping. Best iteration:\n",
      "[74]\ttrain-merror:0.601553\tvalidation-merror:0.836702\ttrain-MAP@5:0.536291\tvalidation-MAP@5:0.272464\n",
      "\n",
      "[0]\ttrain-merror:0.926417\tvalidation-merror:0.930174\ttrain-MAP@5:0.154531\tvalidation-MAP@5:0.149287\n",
      "Multiple eval metrics have been passed: 'validation-MAP@5' will be used for early stopping.\n",
      "\n",
      "Will train until validation-MAP@5 hasn't improved in 50 rounds.\n",
      "[30]\ttrain-merror:0.788633\tvalidation-merror:0.8429\ttrain-MAP@5:0.336442\tvalidation-MAP@5:0.264764\n",
      "[60]\ttrain-merror:0.734343\tvalidation-merror:0.83842\ttrain-MAP@5:0.398966\tvalidation-MAP@5:0.272159\n",
      "[90]\ttrain-merror:0.676188\tvalidation-merror:0.836331\ttrain-MAP@5:0.461464\tvalidation-MAP@5:0.275099\n",
      "[120]\ttrain-merror:0.614824\tvalidation-merror:0.836331\ttrain-MAP@5:0.52321\tvalidation-MAP@5:0.275487\n",
      "[150]\ttrain-merror:0.552122\tvalidation-merror:0.835388\ttrain-MAP@5:0.582894\tvalidation-MAP@5:0.275761\n",
      "[180]\ttrain-merror:0.491928\tvalidation-merror:0.83687\ttrain-MAP@5:0.636574\tvalidation-MAP@5:0.274494\n",
      "Stopping. Best iteration:\n",
      "[145]\ttrain-merror:0.562757\tvalidation-merror:0.83458\ttrain-MAP@5:0.57315\tvalidation-MAP@5:0.276405\n",
      "\n",
      "[0]\ttrain-merror:0.931563\tvalidation-merror:0.934889\ttrain-MAP@5:0.148719\tvalidation-MAP@5:0.145135\n",
      "Multiple eval metrics have been passed: 'validation-MAP@5' will be used for early stopping.\n",
      "\n",
      "Will train until validation-MAP@5 hasn't improved in 50 rounds.\n",
      "[30]\ttrain-merror:0.659085\tvalidation-merror:0.841316\ttrain-MAP@5:0.478707\tvalidation-MAP@5:0.266929\n",
      "[60]\ttrain-merror:0.470564\tvalidation-merror:0.845156\ttrain-MAP@5:0.65611\tvalidation-MAP@5:0.263272\n",
      "Stopping. Best iteration:\n",
      "[28]\ttrain-merror:0.671885\tvalidation-merror:0.840407\ttrain-MAP@5:0.465332\tvalidation-MAP@5:0.267867\n",
      "\n",
      "[0]\ttrain-merror:0.918687\tvalidation-merror:0.926064\ttrain-MAP@5:0.173698\tvalidation-MAP@5:0.163895\n",
      "Multiple eval metrics have been passed: 'validation-MAP@5' will be used for early stopping.\n",
      "\n",
      "Will train until validation-MAP@5 hasn't improved in 50 rounds.\n",
      "[30]\ttrain-merror:0.592509\tvalidation-merror:0.841889\ttrain-MAP@5:0.545196\tvalidation-MAP@5:0.267085\n",
      "[60]\ttrain-merror:0.357092\tvalidation-merror:0.846066\ttrain-MAP@5:0.751231\tvalidation-MAP@5:0.262356\n",
      "Stopping. Best iteration:\n",
      "[27]\ttrain-merror:0.618386\tvalidation-merror:0.840474\ttrain-MAP@5:0.520141\tvalidation-MAP@5:0.267935\n",
      "\n",
      "[0]\ttrain-merror:0.907234\tvalidation-merror:0.909458\ttrain-MAP@5:0.18874\tvalidation-MAP@5:0.183199\n",
      "Multiple eval metrics have been passed: 'validation-MAP@5' will be used for early stopping.\n",
      "\n",
      "Will train until validation-MAP@5 hasn't improved in 50 rounds.\n",
      "[30]\ttrain-merror:0.736836\tvalidation-merror:0.844213\ttrain-MAP@5:0.393273\tvalidation-MAP@5:0.262008\n",
      "[60]\ttrain-merror:0.621191\tvalidation-merror:0.844146\ttrain-MAP@5:0.515481\tvalidation-MAP@5:0.262581\n",
      "[90]\ttrain-merror:0.513747\tvalidation-merror:0.846638\ttrain-MAP@5:0.616952\tvalidation-MAP@5:0.2586\n",
      "Stopping. Best iteration:\n",
      "[46]\ttrain-merror:0.674285\tvalidation-merror:0.842361\ttrain-MAP@5:0.461228\tvalidation-MAP@5:0.264037\n",
      "\n",
      "[0]\ttrain-merror:0.924902\tvalidation-merror:0.928288\ttrain-MAP@5:0.16512\tvalidation-MAP@5:0.155397\n",
      "Multiple eval metrics have been passed: 'validation-MAP@5' will be used for early stopping.\n",
      "\n",
      "Will train until validation-MAP@5 hasn't improved in 50 rounds.\n",
      "[30]\ttrain-merror:0.644693\tvalidation-merror:0.83778\ttrain-MAP@5:0.496539\tvalidation-MAP@5:0.271662\n",
      "[60]\ttrain-merror:0.440089\tvalidation-merror:0.839598\ttrain-MAP@5:0.684049\tvalidation-MAP@5:0.269422\n",
      "Stopping. Best iteration:\n",
      "[39]\ttrain-merror:0.584568\tvalidation-merror:0.837914\ttrain-MAP@5:0.554757\tvalidation-MAP@5:0.271866\n",
      "\n",
      "[0]\ttrain-merror:0.935344\tvalidation-merror:0.940009\ttrain-MAP@5:0.136214\tvalidation-MAP@5:0.130593\n",
      "Multiple eval metrics have been passed: 'validation-MAP@5' will be used for early stopping.\n",
      "\n",
      "Will train until validation-MAP@5 hasn't improved in 50 rounds.\n",
      "[30]\ttrain-merror:0.654344\tvalidation-merror:0.844247\ttrain-MAP@5:0.481411\tvalidation-MAP@5:0.263629\n",
      "[60]\ttrain-merror:0.472164\tvalidation-merror:0.845291\ttrain-MAP@5:0.652478\tvalidation-MAP@5:0.260372\n",
      "Stopping. Best iteration:\n",
      "[32]\ttrain-merror:0.640424\tvalidation-merror:0.8429\ttrain-MAP@5:0.494869\tvalidation-MAP@5:0.264657\n",
      "\n",
      "[0]\ttrain-merror:0.933213\tvalidation-merror:0.936809\ttrain-MAP@5:0.143629\tvalidation-MAP@5:0.140555\n",
      "Multiple eval metrics have been passed: 'validation-MAP@5' will be used for early stopping.\n",
      "\n",
      "Will train until validation-MAP@5 hasn't improved in 50 rounds.\n",
      "[30]\ttrain-merror:0.717367\tvalidation-merror:0.837881\ttrain-MAP@5:0.418071\tvalidation-MAP@5:0.26951\n",
      "[60]\ttrain-merror:0.575364\tvalidation-merror:0.83906\ttrain-MAP@5:0.561679\tvalidation-MAP@5:0.269104\n",
      "[90]\ttrain-merror:0.439163\tvalidation-merror:0.842192\ttrain-MAP@5:0.683234\tvalidation-MAP@5:0.265895\n",
      "Stopping. Best iteration:\n",
      "[42]\ttrain-merror:0.66114\tvalidation-merror:0.837914\ttrain-MAP@5:0.477376\tvalidation-MAP@5:0.271309\n",
      "\n",
      "[0]\ttrain-merror:0.93254\tvalidation-merror:0.935765\ttrain-MAP@5:0.138842\tvalidation-MAP@5:0.135652\n",
      "Multiple eval metrics have been passed: 'validation-MAP@5' will be used for early stopping.\n",
      "\n",
      "Will train until validation-MAP@5 hasn't improved in 50 rounds.\n",
      "[30]\ttrain-merror:0.770301\tvalidation-merror:0.840676\ttrain-MAP@5:0.35845\tvalidation-MAP@5:0.267169\n"
     ]
    },
    {
     "name": "stdout",
     "output_type": "stream",
     "text": [
      "[60]\ttrain-merror:0.686209\tvalidation-merror:0.835455\ttrain-MAP@5:0.450424\tvalidation-MAP@5:0.273266\n",
      "[90]\ttrain-merror:0.595894\tvalidation-merror:0.837577\ttrain-MAP@5:0.541092\tvalidation-MAP@5:0.272709\n",
      "[120]\ttrain-merror:0.509107\tvalidation-merror:0.838487\ttrain-MAP@5:0.622326\tvalidation-MAP@5:0.271777\n",
      "Stopping. Best iteration:\n",
      "[73]\ttrain-merror:0.648441\tvalidation-merror:0.83522\ttrain-MAP@5:0.48989\tvalidation-MAP@5:0.274277\n",
      "\n",
      "[0]\ttrain-merror:0.931942\tvalidation-merror:0.936843\ttrain-MAP@5:0.14811\tvalidation-MAP@5:0.143999\n",
      "Multiple eval metrics have been passed: 'validation-MAP@5' will be used for early stopping.\n",
      "\n",
      "Will train until validation-MAP@5 hasn't improved in 50 rounds.\n",
      "[30]\ttrain-merror:0.67906\tvalidation-merror:0.838352\ttrain-MAP@5:0.459299\tvalidation-MAP@5:0.270395\n",
      "[60]\ttrain-merror:0.507179\tvalidation-merror:0.841417\ttrain-MAP@5:0.624095\tvalidation-MAP@5:0.267457\n",
      "Stopping. Best iteration:\n",
      "[36]\ttrain-merror:0.645283\tvalidation-merror:0.835961\ttrain-MAP@5:0.49372\tvalidation-MAP@5:0.272078\n",
      "\n",
      "[0]\ttrain-merror:0.896969\tvalidation-merror:0.905079\ttrain-MAP@5:0.203183\tvalidation-MAP@5:0.189509\n",
      "Multiple eval metrics have been passed: 'validation-MAP@5' will be used for early stopping.\n",
      "\n",
      "Will train until validation-MAP@5 hasn't improved in 50 rounds.\n",
      "[30]\ttrain-merror:0.723497\tvalidation-merror:0.838959\ttrain-MAP@5:0.413612\tvalidation-MAP@5:0.269964\n",
      "[60]\ttrain-merror:0.617965\tvalidation-merror:0.836702\ttrain-MAP@5:0.524096\tvalidation-MAP@5:0.274099\n",
      "[90]\ttrain-merror:0.500114\tvalidation-merror:0.836836\ttrain-MAP@5:0.632213\tvalidation-MAP@5:0.273085\n",
      "Stopping. Best iteration:\n",
      "[66]\ttrain-merror:0.594429\tvalidation-merror:0.834748\ttrain-MAP@5:0.546597\tvalidation-MAP@5:0.274905\n",
      "\n",
      "{'colsample_bytree': 0.9, 'learning_rate': 0.1, 'max_delta_step': 1.6, 'subsample': 0.8500000000000001, 'min_child': 17.0, 'max_depth': 3}\n",
      "Time: 257.349766664 mins\n"
     ]
    }
   ],
   "source": [
    "\"\"\"\n",
    "Use hyperopt to tune xgboost faster\n",
    "\"\"\"\n",
    "def objective(space):\n",
    "    params = {  \n",
    "                'objective':'multi:softprob',\n",
    "                'max_depth':space['max_depth'],\n",
    "                'min_child_weight':space['min_child_weight'],\n",
    "                'subsample':space['subsample'],\n",
    "                'eta':space['eta'],\n",
    "                'colsample_bytree':space['colsample_bytree'],\n",
    "                'max_delta_step':space['max_delta_step'],\n",
    "                'seed': 2016,  \n",
    "                'num_class': 100,\n",
    "             }\n",
    "\n",
    "    # xgb gpu\n",
    "    params['gpu_id'] = 0\n",
    "    params['max_bin'] = 16\n",
    "    params['tree_method'] = 'gpu_hist'\n",
    "\n",
    "    num_rounds=200\n",
    "    watchlist = [(dtrain,'train'), (dtest,'validation')]\n",
    "    xgb_model = xgb.train(params, dtrain, num_boost_round=num_rounds, \n",
    "                          evals=watchlist, \n",
    "                          early_stopping_rounds = 50,\n",
    "                          feval = map_xgb,\n",
    "                          verbose_eval = 30,\n",
    "                          maximize = True)\n",
    "    \n",
    "    dvalid = xgb.DMatrix(X_test)\n",
    "    pred = xgb_model.predict(dvalid)\n",
    "    map5 = xgb_cv(pred, y_test)\n",
    "\n",
    "    return {'loss': -map5, 'status': STATUS_OK}\n",
    "\n",
    "start = time()\n",
    "space = {\n",
    "    'max_depth': hp.choice('max_depth', np.arange(5, 10, dtype=int)),\n",
    "    'min_child_weight': hp.quniform('min_child', 5, 20, 1)\n",
    "    'subsample': hp.quniform('subsample', 0.7, 1, 0.05),\n",
    "    'eta': hp.quniform('learning_rate', 0.025, 0.5, 0.025),\n",
    "    'colsample_bytree': hp.quniform('colsample_bytree', 0.4, 1.0, 0.05),\n",
    "    'max_delta_step': hp.quniform('max_delta_step', 1, 3, 0.1)\n",
    "}\n",
    "\n",
    "trials = Trials()\n",
    "best = fmin(objective,\n",
    "            space,\n",
    "            algo=tpe.suggest,\n",
    "            max_evals=15,  # change\n",
    "            trials=trials)\n",
    "\n",
    "print(best)\n",
    "print('Time: {} mins'.format((time()-start)/60))"
   ]
  },
  {
   "cell_type": "code",
   "execution_count": 7,
   "metadata": {},
   "outputs": [
    {
     "name": "stdout",
     "output_type": "stream",
     "text": [
      "[0]\ttrain-merror:0.926628\tvalidation-merror:0.929332\ttrain-MAP@5:0.15862\tvalidation-MAP@5:0.151975\n",
      "Multiple eval metrics have been passed: 'validation-MAP@5' will be used for early stopping.\n",
      "\n",
      "Will train until validation-MAP@5 hasn't improved in 50 rounds.\n",
      "[9]\ttrain-merror:0.838991\tvalidation-merror:0.855868\ttrain-MAP@5:0.273158\tvalidation-MAP@5:0.243746\n",
      "Time: 1.7204666694 mins\n"
     ]
    }
   ],
   "source": [
    "\"\"\"\n",
    "Best parameters found by hyperopt:\n",
    "{'colsample_bytree': 0.9, 'learning_rate': 0.1, 'max_delta_step': 1.6, \n",
    "'subsample': 0.8500000000000001, 'min_child': 17.0, 'max_depth': 7}\n",
    "\"\"\"\n",
    "start = time()\n",
    "\n",
    "params = {  'objective':\"multi:softprob\" ,\n",
    "            'seed' : 2016,  \n",
    "            'eta': 0.1,\n",
    "            'max_depth': 7,\n",
    "            'min_child_weight': 17,\n",
    "            'colsample_bytree': 0.9,\n",
    "            'max_delta_step': 1.6,\n",
    "            'subsample': 0.85,\n",
    "            'num_class': 100\n",
    "         }\n",
    "\n",
    "# xgb gpu\n",
    "params['gpu_id'] = 0\n",
    "params['max_bin'] = 16\n",
    "params['tree_method'] = 'gpu_hist'\n",
    "\n",
    "num_rounds=10\n",
    "watchlist = [(dtrain,'train'), (dtest,'validation')]\n",
    "xgb_model = xgb.train(params, \n",
    "                      dtrain = dtrain, \n",
    "                      num_boost_round = num_rounds, \n",
    "                      evals = watchlist, \n",
    "                      early_stopping_rounds = 50,\n",
    "                      feval = map_xgb,\n",
    "                      verbose_eval = 10,\n",
    "                      maximize = True) \n",
    "print('Time: {} mins'.format((time()-start)/60))"
   ]
  },
  {
   "cell_type": "markdown",
   "metadata": {},
   "source": [
    "## 3) LGB CPU Tuning & Training"
   ]
  },
  {
   "cell_type": "code",
   "execution_count": 11,
   "metadata": {
    "collapsed": true
   },
   "outputs": [],
   "source": [
    "# evaluation function used in hyperopt\n",
    "def lgb_cv(preds, actual):\n",
    "    predicted = preds.argsort(axis=1)[:,-np.arange(1,6)]\n",
    "    metric = 0.\n",
    "    for i in range(5):\n",
    "        metric += np.sum(actual==predicted[:,i])/(i+1)\n",
    "    metric /= actual.shape[0]\n",
    "    return metric"
   ]
  },
  {
   "cell_type": "code",
   "execution_count": 5,
   "metadata": {
    "collapsed": true
   },
   "outputs": [],
   "source": [
    "lgb_train = lgb.Dataset(X_train, y_train)\n",
    "lgb_test = lgb.Dataset(X_test, y_test)"
   ]
  },
  {
   "cell_type": "code",
   "execution_count": 6,
   "metadata": {
    "collapsed": true
   },
   "outputs": [],
   "source": [
    "# MAP@5 Evaluation function of LGB\n",
    "def map_lgb(preds, dtrain):\n",
    "    actual = dtrain.get_label()\n",
    "    preds = preds.reshape((len(actual), 100))\n",
    "    predicted = preds.argsort(axis=1)[:,-np.arange(1,6)]\n",
    "    metric = 0.\n",
    "    for i in range(5):\n",
    "        metric += np.sum(actual==predicted[:,i])/(i+1)\n",
    "    metric /= actual.shape[0]\n",
    "    return 'MAP@5', metric, True"
   ]
  },
  {
   "cell_type": "code",
   "execution_count": 13,
   "metadata": {
    "scrolled": true
   },
   "outputs": [
    {
     "name": "stdout",
     "output_type": "stream",
     "text": [
      "Training until validation scores don't improve for 50 rounds.\n",
      "[30]\tvalid_0's MAP@5: 0.0230682\n",
      "[60]\tvalid_0's MAP@5: 0.0230071\n",
      "[90]\tvalid_0's MAP@5: 0.0225776\n",
      "Early stopping, best iteration is:\n",
      "[45]\tvalid_0's MAP@5: 0.0243544\n",
      "Training until validation scores don't improve for 50 rounds.\n",
      "[30]\tvalid_0's MAP@5: 0.023331\n",
      "Early stopping, best iteration is:\n",
      "[9]\tvalid_0's MAP@5: 0.0243662\n",
      "Training until validation scores don't improve for 50 rounds.\n",
      "[30]\tvalid_0's MAP@5: 0.0233181\n",
      "Early stopping, best iteration is:\n",
      "[2]\tvalid_0's MAP@5: 0.0243112\n",
      "Training until validation scores don't improve for 50 rounds.\n",
      "[30]\tvalid_0's MAP@5: 0.0230132\n",
      "[60]\tvalid_0's MAP@5: 0.0232249\n",
      "[90]\tvalid_0's MAP@5: 0.0233046\n",
      "Early stopping, best iteration is:\n",
      "[57]\tvalid_0's MAP@5: 0.0238531\n",
      "Training until validation scores don't improve for 50 rounds.\n",
      "[30]\tvalid_0's MAP@5: 0.0226899\n",
      "[60]\tvalid_0's MAP@5: 0.0232193\n",
      "[90]\tvalid_0's MAP@5: 0.0224344\n",
      "Early stopping, best iteration is:\n",
      "[51]\tvalid_0's MAP@5: 0.0249764\n",
      "Training until validation scores don't improve for 50 rounds.\n",
      "[30]\tvalid_0's MAP@5: 0.0221537\n",
      "Early stopping, best iteration is:\n",
      "[8]\tvalid_0's MAP@5: 0.0244897\n",
      "Training until validation scores don't improve for 50 rounds.\n",
      "[30]\tvalid_0's MAP@5: 0.0242803\n",
      "[60]\tvalid_0's MAP@5: 0.023404\n",
      "Early stopping, best iteration is:\n",
      "[30]\tvalid_0's MAP@5: 0.0242803\n",
      "Training until validation scores don't improve for 50 rounds.\n",
      "[30]\tvalid_0's MAP@5: 0.0229694\n",
      "[60]\tvalid_0's MAP@5: 0.0226051\n",
      "[90]\tvalid_0's MAP@5: 0.023116\n",
      "Early stopping, best iteration is:\n",
      "[42]\tvalid_0's MAP@5: 0.0240148\n",
      "Training until validation scores don't improve for 50 rounds.\n",
      "[30]\tvalid_0's MAP@5: 0.0232434\n",
      "[60]\tvalid_0's MAP@5: 0.0238171\n",
      "[90]\tvalid_0's MAP@5: 0.0227786\n",
      "Early stopping, best iteration is:\n",
      "[53]\tvalid_0's MAP@5: 0.0248074\n",
      "Training until validation scores don't improve for 50 rounds.\n",
      "[30]\tvalid_0's MAP@5: 0.0234416\n",
      "Early stopping, best iteration is:\n",
      "[2]\tvalid_0's MAP@5: 0.0243353\n",
      "Training until validation scores don't improve for 50 rounds.\n",
      "[30]\tvalid_0's MAP@5: 0.0230458\n",
      "Early stopping, best iteration is:\n",
      "[5]\tvalid_0's MAP@5: 0.0237851\n",
      "Training until validation scores don't improve for 50 rounds.\n",
      "[30]\tvalid_0's MAP@5: 0.0229363\n",
      "[60]\tvalid_0's MAP@5: 0.0227123\n",
      "[90]\tvalid_0's MAP@5: 0.0233899\n",
      "Early stopping, best iteration is:\n",
      "[50]\tvalid_0's MAP@5: 0.0245857\n",
      "Training until validation scores don't improve for 50 rounds.\n",
      "[30]\tvalid_0's MAP@5: 0.0233753\n",
      "[60]\tvalid_0's MAP@5: 0.0232939\n",
      "[90]\tvalid_0's MAP@5: 0.0224866\n",
      "[120]\tvalid_0's MAP@5: 0.0237094\n",
      "Early stopping, best iteration is:\n",
      "[73]\tvalid_0's MAP@5: 0.0241585\n",
      "Training until validation scores don't improve for 50 rounds.\n",
      "[30]\tvalid_0's MAP@5: 0.0230514\n",
      "[60]\tvalid_0's MAP@5: 0.023871\n",
      "[90]\tvalid_0's MAP@5: 0.0234837\n",
      "[120]\tvalid_0's MAP@5: 0.0240153\n",
      "Early stopping, best iteration is:\n",
      "[84]\tvalid_0's MAP@5: 0.0246312\n",
      "Training until validation scores don't improve for 50 rounds.\n",
      "[30]\tvalid_0's MAP@5: 0.0232232\n",
      "Early stopping, best iteration is:\n",
      "[2]\tvalid_0's MAP@5: 0.0243999\n",
      "{'num_leaves': 92, 'bagging_fraction': 0.8, 'learning_rate': 0.05, 'bagging_freq': 1, 'max_depth': 8, 'feature_fraction': 1.0}\n",
      "Time: 67.8400069157 mins\n"
     ]
    }
   ],
   "source": [
    "\"\"\"\n",
    "Use hyperopt to tune lightgbm faster\n",
    "\"\"\"\n",
    "def objective(space):\n",
    "    params = {  \n",
    "                'objective':'multiclass',\n",
    "                'num_leaves':space['num_leaves'],\n",
    "                'max_depth':space['max_depth'],\n",
    "                'bagging_freq':space['bagging_freq'],\n",
    "                'bagging_fraction':space['bagging_fraction'],\n",
    "                'learning_rate':space['learning_rate'],\n",
    "                'feature_fraction':space['feature_fraction'],\n",
    "                'seed': 2016,  \n",
    "                'num_class': 100,\n",
    "                'verbose': 5\n",
    "             }\n",
    "    \n",
    "    num_rounds=200\n",
    "    lgb_model = lgb.train(params, \n",
    "                          lgb_train, \n",
    "                          num_boost_round=num_rounds, \n",
    "                          valid_sets=lgb_test, \n",
    "                          early_stopping_rounds = 50,\n",
    "                          feval = map_lgb,\n",
    "                          verbose_eval = 30,\n",
    "                         )\n",
    "    \n",
    "    pred = lgb_model.predict(X_test)\n",
    "    map5 = lgb_cv(pred, y_test)\n",
    "\n",
    "    return {'loss': -map5, 'status': STATUS_OK}\n",
    "\n",
    "start = time()\n",
    "space = {\n",
    "    'max_depth': hp.choice('max_depth', np.arange(5, 16, dtype=int)),\n",
    "    'num_leaves': hp.choice('num_leaves', np.arange(31, 127, dtype=int)),\n",
    "    'bagging_freq':hp.choice('bagging_freq', np.arange(5, 21, dtype=int)),\n",
    "    'bagging_fraction': hp.quniform('bagging_fraction', 0.7, 1, 0.05),\n",
    "    'learning_rate': hp.quniform('learning_rate', 0.025, 0.5, 0.025),\n",
    "    'feature_fraction': hp.quniform('feature_fraction', 0.6, 1.0, 0.05),\n",
    "}\n",
    "\n",
    "trials = Trials()\n",
    "best = fmin(objective,\n",
    "            space,\n",
    "            algo=tpe.suggest,\n",
    "            max_evals=15,  # change\n",
    "            trials=trials)\n",
    "\n",
    "print(best)\n",
    "print('Time: {} mins'.format((time()-start)/60))"
   ]
  },
  {
   "cell_type": "code",
   "execution_count": 15,
   "metadata": {},
   "outputs": [
    {
     "name": "stdout",
     "output_type": "stream",
     "text": [
      "Training until validation scores don't improve for 50 rounds.\n",
      "[30]\tvalid_0's MAP@5: 0.0232451\n",
      "[60]\tvalid_0's MAP@5: 0.0231087\n",
      "Early stopping, best iteration is:\n",
      "[10]\tvalid_0's MAP@5: 0.0237644\n",
      "Total time: 7.0778865695 mins\n"
     ]
    }
   ],
   "source": [
    "\"\"\"\n",
    "{'num_leaves': 92, 'bagging_fraction': 0.8, 'learning_rate': 0.05, \n",
    "'bagging_freq': 1, 'max_depth': 8, 'feature_fraction': 1.0}\n",
    "\n",
    "\"\"\"\n",
    "\n",
    "start = time()\n",
    "n_rounds = 200\n",
    "params = {'objective': 'multiclass',\n",
    "          'max_depth': 12,\n",
    "          'learning_rate': 0.05, \n",
    "          'num_leaves': 123, \n",
    "          'feature_fraction': 1.0, \n",
    "          'bagging_fraction': 0.8, \n",
    "          'bagging_freq': 5,\n",
    "          'num_class': 100,\n",
    "        }\n",
    "\n",
    "lgb_model = lgb.train(params, lgb.Dataset(X_train, label=y_train), n_rounds,\n",
    "                      lgb.Dataset(X_test, label=y_test), verbose_eval=30,\n",
    "                      feval=map_lgb, early_stopping_rounds=50)\n",
    "print('Total time: {} mins'.format((time()-start) / 60))"
   ]
  },
  {
   "cell_type": "markdown",
   "metadata": {},
   "source": [
    "## 4) Random Forest"
   ]
  },
  {
   "cell_type": "code",
   "execution_count": 42,
   "metadata": {
    "collapsed": true
   },
   "outputs": [],
   "source": [
    "from sklearn.ensemble import RandomForestClassifier as RF"
   ]
  },
  {
   "cell_type": "code",
   "execution_count": 43,
   "metadata": {
    "collapsed": true
   },
   "outputs": [],
   "source": [
    "train = pd.read_csv('G:/expedia/merge_train.csv')\n",
    "train = train.sample(frac=0.5, random_state=2016)\n",
    "y = train['hotel_cluster']\n",
    "drop_col = ['hotel_cluster']\n",
    "train.drop(drop_col, axis=1, inplace=True)\n",
    "X_train, X_test, y_train, y_test = train_test_split(train, y, stratify=y, test_size=0.2)"
   ]
  },
  {
   "cell_type": "code",
   "execution_count": 44,
   "metadata": {},
   "outputs": [
    {
     "data": {
      "text/plain": [
       "user_id                      0.000000\n",
       "srch_destination_id          0.000000\n",
       "site_name                    0.000000\n",
       "posa_continent               0.000000\n",
       "user_location_country        0.000000\n",
       "user_location_region         0.000000\n",
       "user_location_city           0.000000\n",
       "orig_destination_distance    0.338431\n",
       "is_mobile                    0.000000\n",
       "is_package                   0.000000\n",
       "channel                      0.000000\n",
       "srch_adults_cnt              0.000000\n",
       "srch_children_cnt            0.000000\n",
       "srch_rm_cnt                  0.000000\n",
       "srch_destination_type_id     0.000000\n",
       "hotel_continent              0.000000\n",
       "hotel_country                0.000000\n",
       "hotel_market                 0.000000\n",
       "booking_rate                 0.000000\n",
       "ci_co_duration               0.000000\n",
       "ci_dt_duration               0.000000\n",
       "co_dt_duration               0.000000\n",
       "ci_month                     0.000000\n",
       "co_month                     0.000000\n",
       "dt_month                     0.000000\n",
       "0                            0.004158\n",
       "1                            0.004158\n",
       "2                            0.004158\n",
       "3                            0.004158\n",
       "4                            0.004158\n",
       "5                            0.004158\n",
       "6                            0.004158\n",
       "7                            0.004158\n",
       "8                            0.004158\n",
       "9                            0.004158\n",
       "10                           0.004158\n",
       "11                           0.004158\n",
       "12                           0.004158\n",
       "13                           0.004158\n",
       "14                           0.004158\n",
       "15                           0.004158\n",
       "16                           0.004158\n",
       "17                           0.004158\n",
       "18                           0.004158\n",
       "19                           0.004158\n",
       "dtype: float64"
      ]
     },
     "execution_count": 44,
     "metadata": {},
     "output_type": "execute_result"
    }
   ],
   "source": [
    "# Check Nan portion of each column before processing\n",
    "X_train.isnull().sum() / len(X_train)"
   ]
  },
  {
   "cell_type": "code",
   "execution_count": 45,
   "metadata": {
    "collapsed": true
   },
   "outputs": [],
   "source": [
    "mean_dist = X_train[['orig_destination_distance']].mean()\n",
    "X_train[['orig_destination_distance']] = X_train[['orig_destination_distance']].fillna(value = mean_dist)\n",
    "X_train = X_train.fillna(-1)"
   ]
  },
  {
   "cell_type": "code",
   "execution_count": 46,
   "metadata": {},
   "outputs": [
    {
     "data": {
      "text/plain": [
       "user_id                      0.0\n",
       "srch_destination_id          0.0\n",
       "site_name                    0.0\n",
       "posa_continent               0.0\n",
       "user_location_country        0.0\n",
       "user_location_region         0.0\n",
       "user_location_city           0.0\n",
       "orig_destination_distance    0.0\n",
       "is_mobile                    0.0\n",
       "is_package                   0.0\n",
       "channel                      0.0\n",
       "srch_adults_cnt              0.0\n",
       "srch_children_cnt            0.0\n",
       "srch_rm_cnt                  0.0\n",
       "srch_destination_type_id     0.0\n",
       "hotel_continent              0.0\n",
       "hotel_country                0.0\n",
       "hotel_market                 0.0\n",
       "booking_rate                 0.0\n",
       "ci_co_duration               0.0\n",
       "ci_dt_duration               0.0\n",
       "co_dt_duration               0.0\n",
       "ci_month                     0.0\n",
       "co_month                     0.0\n",
       "dt_month                     0.0\n",
       "0                            0.0\n",
       "1                            0.0\n",
       "2                            0.0\n",
       "3                            0.0\n",
       "4                            0.0\n",
       "5                            0.0\n",
       "6                            0.0\n",
       "7                            0.0\n",
       "8                            0.0\n",
       "9                            0.0\n",
       "10                           0.0\n",
       "11                           0.0\n",
       "12                           0.0\n",
       "13                           0.0\n",
       "14                           0.0\n",
       "15                           0.0\n",
       "16                           0.0\n",
       "17                           0.0\n",
       "18                           0.0\n",
       "19                           0.0\n",
       "dtype: float64"
      ]
     },
     "execution_count": 46,
     "metadata": {},
     "output_type": "execute_result"
    }
   ],
   "source": [
    "# Check Nan portion of each column after processing\n",
    "X_train.isnull().sum() / len(X_train)"
   ]
  },
  {
   "cell_type": "code",
   "execution_count": null,
   "metadata": {
    "collapsed": true
   },
   "outputs": [],
   "source": [
    "train = pd.DataFrame(train)\n",
    "for i in xrange(len(train)):\n",
    "    train.iloc[i,:]"
   ]
  },
  {
   "cell_type": "code",
   "execution_count": 47,
   "metadata": {},
   "outputs": [
    {
     "name": "stdout",
     "output_type": "stream",
     "text": [
      "28.5439999104\n"
     ]
    }
   ],
   "source": [
    "start = time()\n",
    "rf = RF(max_depth=5, random_state=2017)\n",
    "rf.fit(X_train, y_train)\n",
    "print time()-start"
   ]
  },
  {
   "cell_type": "code",
   "execution_count": 48,
   "metadata": {
    "collapsed": true
   },
   "outputs": [],
   "source": [
    "X_test[['orig_destination_distance']] = X_test[['orig_destination_distance']].fillna(value = mean_dist)"
   ]
  },
  {
   "cell_type": "code",
   "execution_count": 49,
   "metadata": {
    "collapsed": true
   },
   "outputs": [],
   "source": [
    "X_test = X_test.fillna(-1)"
   ]
  },
  {
   "cell_type": "code",
   "execution_count": 50,
   "metadata": {
    "collapsed": true
   },
   "outputs": [],
   "source": [
    "rf_pred = rf.predict_proba(X_test)"
   ]
  },
  {
   "cell_type": "code",
   "execution_count": 51,
   "metadata": {},
   "outputs": [
    {
     "data": {
      "text/plain": [
       "(296879L, 100L)"
      ]
     },
     "execution_count": 51,
     "metadata": {},
     "output_type": "execute_result"
    }
   ],
   "source": [
    "rf_pred.shape"
   ]
  },
  {
   "cell_type": "code",
   "execution_count": null,
   "metadata": {
    "collapsed": true
   },
   "outputs": [],
   "source": [
    "prediction = np.array(prediction)"
   ]
  },
  {
   "cell_type": "code",
   "execution_count": 52,
   "metadata": {
    "collapsed": true
   },
   "outputs": [],
   "source": [
    "# evaluation function used in hyperopt\n",
    "def rf_map(preds, actual):\n",
    "    #predicted = preds.argsort(axis=1)[:,-np.arange(1,6)]\n",
    "    metric = 0.\n",
    "    for i in range(5):\n",
    "        metric += np.sum(actual==predicted[:,i])/(i+1)\n",
    "    metric /= actual.shape[0]\n",
    "    return metric"
   ]
  },
  {
   "cell_type": "code",
   "execution_count": 54,
   "metadata": {},
   "outputs": [
    {
     "name": "stdout",
     "output_type": "stream",
     "text": [
      "Random Forest MAP@5: 0.174919130914\n"
     ]
    }
   ],
   "source": [
    "print 'Random Forest MAP@5: {}'.format(rf_map(rf_pred, y_test))"
   ]
  },
  {
   "cell_type": "markdown",
   "metadata": {},
   "source": [
    "======================================="
   ]
  },
  {
   "cell_type": "code",
   "execution_count": 26,
   "metadata": {
    "collapsed": true
   },
   "outputs": [],
   "source": [
    "example.coalesce(1).write.csv('./example.csv',header='true')"
   ]
  },
  {
   "cell_type": "code",
   "execution_count": 27,
   "metadata": {},
   "outputs": [
    {
     "data": {
      "text/html": [
       "<div>\n",
       "<style scoped>\n",
       "    .dataframe tbody tr th:only-of-type {\n",
       "        vertical-align: middle;\n",
       "    }\n",
       "\n",
       "    .dataframe tbody tr th {\n",
       "        vertical-align: top;\n",
       "    }\n",
       "\n",
       "    .dataframe thead th {\n",
       "        text-align: right;\n",
       "    }\n",
       "</style>\n",
       "<table border=\"1\" class=\"dataframe\">\n",
       "  <thead>\n",
       "    <tr style=\"text-align: right;\">\n",
       "      <th></th>\n",
       "      <th>user_id</th>\n",
       "      <th>hotel</th>\n",
       "      <th>dest_type</th>\n",
       "      <th>booking</th>\n",
       "    </tr>\n",
       "  </thead>\n",
       "  <tbody>\n",
       "    <tr>\n",
       "      <th>0</th>\n",
       "      <td>1</td>\n",
       "      <td>3</td>\n",
       "      <td>1</td>\n",
       "      <td>0</td>\n",
       "    </tr>\n",
       "    <tr>\n",
       "      <th>1</th>\n",
       "      <td>1</td>\n",
       "      <td>56</td>\n",
       "      <td>1</td>\n",
       "      <td>0</td>\n",
       "    </tr>\n",
       "    <tr>\n",
       "      <th>2</th>\n",
       "      <td>1</td>\n",
       "      <td>35</td>\n",
       "      <td>6</td>\n",
       "      <td>0</td>\n",
       "    </tr>\n",
       "    <tr>\n",
       "      <th>3</th>\n",
       "      <td>1</td>\n",
       "      <td>23</td>\n",
       "      <td>1</td>\n",
       "      <td>1</td>\n",
       "    </tr>\n",
       "    <tr>\n",
       "      <th>4</th>\n",
       "      <td>1</td>\n",
       "      <td>25</td>\n",
       "      <td>6</td>\n",
       "      <td>1</td>\n",
       "    </tr>\n",
       "    <tr>\n",
       "      <th>5</th>\n",
       "      <td>2</td>\n",
       "      <td>34</td>\n",
       "      <td>1</td>\n",
       "      <td>0</td>\n",
       "    </tr>\n",
       "    <tr>\n",
       "      <th>6</th>\n",
       "      <td>2</td>\n",
       "      <td>29</td>\n",
       "      <td>3</td>\n",
       "      <td>1</td>\n",
       "    </tr>\n",
       "    <tr>\n",
       "      <th>7</th>\n",
       "      <td>2</td>\n",
       "      <td>57</td>\n",
       "      <td>4</td>\n",
       "      <td>1</td>\n",
       "    </tr>\n",
       "  </tbody>\n",
       "</table>\n",
       "</div>"
      ],
      "text/plain": [
       "   user_id  hotel  dest_type  booking\n",
       "0        1      3          1        0\n",
       "1        1     56          1        0\n",
       "2        1     35          6        0\n",
       "3        1     23          1        1\n",
       "4        1     25          6        1\n",
       "5        2     34          1        0\n",
       "6        2     29          3        1\n",
       "7        2     57          4        1"
      ]
     },
     "execution_count": 27,
     "metadata": {},
     "output_type": "execute_result"
    }
   ],
   "source": [
    "shit = pd.read_csv('./example.csv/part-00000-8ebc723b-b5a2-4af9-a359-25b993af0438-c000.csv')\n",
    "shit"
   ]
  },
  {
   "cell_type": "code",
   "execution_count": 18,
   "metadata": {},
   "outputs": [
    {
     "name": "stdout",
     "output_type": "stream",
     "text": [
      "+-------+-----+---------+-------+\n",
      "|user_id|hotel|dest_type|booking|\n",
      "+-------+-----+---------+-------+\n",
      "|      1|    3|        1|      0|\n",
      "|      1|   56|        1|      0|\n",
      "|      1|   35|        6|      0|\n",
      "|      1|   23|        1|      1|\n",
      "|      1|   25|        6|      1|\n",
      "|      2|   34|        1|      0|\n",
      "|      2|   23|        3|      1|\n",
      "|      2|   23|        4|      1|\n",
      "+-------+-----+---------+-------+\n",
      "\n"
     ]
    }
   ],
   "source": [
    "rdd = sc.parallelize([(1,3,1,0),\n",
    "                      (1,56,1,0),\n",
    "                      (1,35,6,0),\n",
    "                      (1,23,1,1),\n",
    "                      (1,25,6,1),\n",
    "                      (2,34,1,0),\n",
    "                      (2,23,3,1),\n",
    "                      (2,23,4,1)])\n",
    "example = sqlContext.createDataFrame(rdd, ['user_id', 'hotel',\n",
    "                                           'dest_type', 'booking'])\n",
    "example.show()"
   ]
  },
  {
   "cell_type": "code",
   "execution_count": 19,
   "metadata": {},
   "outputs": [
    {
     "data": {
      "text/plain": [
       "<function pyspark.sql.functions.avg>"
      ]
     },
     "execution_count": 19,
     "metadata": {},
     "output_type": "execute_result"
    }
   ],
   "source": [
    "F.avg"
   ]
  },
  {
   "cell_type": "code",
   "execution_count": 20,
   "metadata": {},
   "outputs": [
    {
     "name": "stdout",
     "output_type": "stream",
     "text": [
      "+-------+---------+-----+-------+------------------+\n",
      "|user_id|dest_type|hotel|booking|             perct|\n",
      "+-------+---------+-----+-------+------------------+\n",
      "|      1|        1|    3|      0|0.3333333333333333|\n",
      "|      1|        1|   56|      0|0.3333333333333333|\n",
      "|      1|        1|   23|      1|0.3333333333333333|\n",
      "|      2|        3|   23|      1|               1.0|\n",
      "|      1|        6|   35|      0|               0.5|\n",
      "|      1|        6|   25|      1|               0.5|\n",
      "|      2|        4|   23|      1|               1.0|\n",
      "|      2|        1|   34|      0|               0.0|\n",
      "+-------+---------+-----+-------+------------------+\n",
      "\n"
     ]
    }
   ],
   "source": [
    "res = example.groupBy(\"user_id\", \"dest_type\") \\\n",
    "             .agg(F.avg((F.col(\"booking\") == 1) \\\n",
    "             .cast(\"integer\")).alias('perct'))\n",
    "example = example.join(res, [\"user_id\", \"dest_type\"], 'outer')\n",
    "example.show()"
   ]
  },
  {
   "cell_type": "code",
   "execution_count": 18,
   "metadata": {
    "collapsed": true
   },
   "outputs": [],
   "source": [
    "dic = {0: -1, 1: 1}\n",
    "example = example.na.replace(dic, 1, 'booking')"
   ]
  },
  {
   "cell_type": "code",
   "execution_count": 20,
   "metadata": {
    "scrolled": true
   },
   "outputs": [
    {
     "name": "stdout",
     "output_type": "stream",
     "text": [
      "+-------+---------+----+----+----+----+----+----+\n",
      "|user_id|dest_type|   3|  23|  25|  34|  35|  56|\n",
      "+-------+---------+----+----+----+----+----+----+\n",
      "|      1|        1|  -1|   1|null|null|null|  -1|\n",
      "|      2|        3|null|   1|null|null|null|null|\n",
      "|      1|        6|null|null|   1|null|  -1|null|\n",
      "|      2|        4|null|   1|null|null|null|null|\n",
      "|      2|        1|null|null|null|  -1|null|null|\n",
      "+-------+---------+----+----+----+----+----+----+\n",
      "\n"
     ]
    }
   ],
   "source": [
    "pivoted = example.groupBy('user_id', 'dest_type') \\\n",
    "                 .pivot(\n",
    "                     'hotel'\n",
    "                 ) \\\n",
    "                 .sum('booking')\n",
    "pivoted.show()"
   ]
  },
  {
   "cell_type": "code",
   "execution_count": 19,
   "metadata": {},
   "outputs": [
    {
     "name": "stdout",
     "output_type": "stream",
     "text": [
      "+-------+----+---+----+----+----+----+\n",
      "|user_id|   3| 23|  25|  34|  35|  56|\n",
      "+-------+----+---+----+----+----+----+\n",
      "|      1|  -1|  1|   1|null|  -1|  -1|\n",
      "|      2|null|  2|null|  -1|null|null|\n",
      "+-------+----+---+----+----+----+----+\n",
      "\n"
     ]
    }
   ],
   "source": [
    "pivoted = example.groupBy('user_id') \\\n",
    "                 .pivot(\n",
    "                     'hotel'\n",
    "                 ) \\\n",
    "                 .sum('booking')\n",
    "pivoted.show()"
   ]
  },
  {
   "cell_type": "code",
   "execution_count": 10,
   "metadata": {
    "collapsed": true
   },
   "outputs": [],
   "source": [
    "np.ones?"
   ]
  },
  {
   "cell_type": "code",
   "execution_count": 12,
   "metadata": {},
   "outputs": [
    {
     "name": "stdout",
     "output_type": "stream",
     "text": [
      "    col1  key\n",
      "0      2  1.0\n",
      "1      4  1.0\n",
      "2      6  1.0\n",
      "3      8  1.0\n",
      "4     10  1.0\n",
      "5     12  1.0\n",
      "6     14  1.0\n",
      "7     16  1.0\n",
      "8     18  1.0\n",
      "9     20  1.0\n",
      "10    22  1.0\n",
      "11    24  1.0\n",
      "12    26  1.0\n",
      "13    28  1.0\n",
      "14    30  1.0\n",
      "15    32  1.0\n",
      "16    34  1.0\n",
      "17    36  1.0\n",
      "18    38  1.0\n",
      "19    40  1.0\n",
      "20    42  1.0\n",
      "21    44  1.0\n",
      "22    46  1.0\n",
      "23    48  1.0\n",
      "24    50  1.0\n",
      "25    52  1.0\n",
      "26    54  1.0\n",
      "27    56  1.0\n",
      "28    58  1.0\n",
      "29    60  1.0\n",
      "..   ...  ...\n",
      "70   142  1.0\n",
      "71   144  1.0\n",
      "72   146  1.0\n",
      "73   148  1.0\n",
      "74   150  1.0\n",
      "75   152  1.0\n",
      "76   154  1.0\n",
      "77   156  1.0\n",
      "78   158  1.0\n",
      "79   160  1.0\n",
      "80   162  1.0\n",
      "81   164  1.0\n",
      "82   166  1.0\n",
      "83   168  1.0\n",
      "84   170  1.0\n",
      "85   172  1.0\n",
      "86   174  1.0\n",
      "87   176  1.0\n",
      "88   178  1.0\n",
      "89   180  1.0\n",
      "90   182  1.0\n",
      "91   184  1.0\n",
      "92   186  1.0\n",
      "93   188  1.0\n",
      "94   190  1.0\n",
      "95   192  1.0\n",
      "96   194  1.0\n",
      "97   196  1.0\n",
      "98   198  1.0\n",
      "99   200  1.0\n",
      "\n",
      "[100 rows x 2 columns]\n",
      "    col3  key\n",
      "0      1  1.0\n",
      "1      2  1.0\n",
      "2      3  1.0\n",
      "3      4  1.0\n",
      "4      5  1.0\n",
      "5      6  1.0\n",
      "6      7  1.0\n",
      "7      8  1.0\n",
      "8      9  1.0\n",
      "9     10  1.0\n",
      "10    11  1.0\n",
      "11    12  1.0\n",
      "12    13  1.0\n",
      "13    14  1.0\n",
      "14    15  1.0\n",
      "15    16  1.0\n",
      "16    17  1.0\n",
      "17    18  1.0\n",
      "18    19  1.0\n",
      "19    20  1.0\n",
      "20    21  1.0\n",
      "21    22  1.0\n",
      "22    23  1.0\n",
      "23    24  1.0\n",
      "24    25  1.0\n",
      "25    26  1.0\n",
      "26    27  1.0\n",
      "27    28  1.0\n",
      "28    29  1.0\n",
      "29    30  1.0\n",
      "..   ...  ...\n",
      "70    71  1.0\n",
      "71    72  1.0\n",
      "72    73  1.0\n",
      "73    74  1.0\n",
      "74    75  1.0\n",
      "75    76  1.0\n",
      "76    77  1.0\n",
      "77    78  1.0\n",
      "78    79  1.0\n",
      "79    80  1.0\n",
      "80    81  1.0\n",
      "81    82  1.0\n",
      "82    83  1.0\n",
      "83    84  1.0\n",
      "84    85  1.0\n",
      "85    86  1.0\n",
      "86    87  1.0\n",
      "87    88  1.0\n",
      "88    89  1.0\n",
      "89    90  1.0\n",
      "90    91  1.0\n",
      "91    92  1.0\n",
      "92    93  1.0\n",
      "93    94  1.0\n",
      "94    95  1.0\n",
      "95    96  1.0\n",
      "96    97  1.0\n",
      "97    98  1.0\n",
      "98    99  1.0\n",
      "99   100  1.0\n",
      "\n",
      "[100 rows x 2 columns]\n"
     ]
    }
   ],
   "source": [
    "df1 = pd.DataFrame({'key':np.ones(100), 'col1':2*np.arange(1,101)})\n",
    "df2 = pd.DataFrame({'key':np.ones(100), 'col3':np.arange(1,101)})\n",
    "print df1\n",
    "print df2"
   ]
  },
  {
   "cell_type": "code",
   "execution_count": 13,
   "metadata": {},
   "outputs": [
    {
     "data": {
      "text/html": [
       "<div>\n",
       "<style>\n",
       "    .dataframe thead tr:only-child th {\n",
       "        text-align: right;\n",
       "    }\n",
       "\n",
       "    .dataframe thead th {\n",
       "        text-align: left;\n",
       "    }\n",
       "\n",
       "    .dataframe tbody tr th {\n",
       "        vertical-align: top;\n",
       "    }\n",
       "</style>\n",
       "<table border=\"1\" class=\"dataframe\">\n",
       "  <thead>\n",
       "    <tr style=\"text-align: right;\">\n",
       "      <th></th>\n",
       "      <th>col1</th>\n",
       "      <th>col3</th>\n",
       "    </tr>\n",
       "  </thead>\n",
       "  <tbody>\n",
       "    <tr>\n",
       "      <th>0</th>\n",
       "      <td>2</td>\n",
       "      <td>1</td>\n",
       "    </tr>\n",
       "    <tr>\n",
       "      <th>1</th>\n",
       "      <td>2</td>\n",
       "      <td>2</td>\n",
       "    </tr>\n",
       "    <tr>\n",
       "      <th>2</th>\n",
       "      <td>2</td>\n",
       "      <td>3</td>\n",
       "    </tr>\n",
       "    <tr>\n",
       "      <th>3</th>\n",
       "      <td>2</td>\n",
       "      <td>4</td>\n",
       "    </tr>\n",
       "    <tr>\n",
       "      <th>4</th>\n",
       "      <td>2</td>\n",
       "      <td>5</td>\n",
       "    </tr>\n",
       "    <tr>\n",
       "      <th>5</th>\n",
       "      <td>2</td>\n",
       "      <td>6</td>\n",
       "    </tr>\n",
       "    <tr>\n",
       "      <th>6</th>\n",
       "      <td>2</td>\n",
       "      <td>7</td>\n",
       "    </tr>\n",
       "    <tr>\n",
       "      <th>7</th>\n",
       "      <td>2</td>\n",
       "      <td>8</td>\n",
       "    </tr>\n",
       "    <tr>\n",
       "      <th>8</th>\n",
       "      <td>2</td>\n",
       "      <td>9</td>\n",
       "    </tr>\n",
       "    <tr>\n",
       "      <th>9</th>\n",
       "      <td>2</td>\n",
       "      <td>10</td>\n",
       "    </tr>\n",
       "    <tr>\n",
       "      <th>10</th>\n",
       "      <td>2</td>\n",
       "      <td>11</td>\n",
       "    </tr>\n",
       "    <tr>\n",
       "      <th>11</th>\n",
       "      <td>2</td>\n",
       "      <td>12</td>\n",
       "    </tr>\n",
       "    <tr>\n",
       "      <th>12</th>\n",
       "      <td>2</td>\n",
       "      <td>13</td>\n",
       "    </tr>\n",
       "    <tr>\n",
       "      <th>13</th>\n",
       "      <td>2</td>\n",
       "      <td>14</td>\n",
       "    </tr>\n",
       "    <tr>\n",
       "      <th>14</th>\n",
       "      <td>2</td>\n",
       "      <td>15</td>\n",
       "    </tr>\n",
       "    <tr>\n",
       "      <th>15</th>\n",
       "      <td>2</td>\n",
       "      <td>16</td>\n",
       "    </tr>\n",
       "    <tr>\n",
       "      <th>16</th>\n",
       "      <td>2</td>\n",
       "      <td>17</td>\n",
       "    </tr>\n",
       "    <tr>\n",
       "      <th>17</th>\n",
       "      <td>2</td>\n",
       "      <td>18</td>\n",
       "    </tr>\n",
       "    <tr>\n",
       "      <th>18</th>\n",
       "      <td>2</td>\n",
       "      <td>19</td>\n",
       "    </tr>\n",
       "    <tr>\n",
       "      <th>19</th>\n",
       "      <td>2</td>\n",
       "      <td>20</td>\n",
       "    </tr>\n",
       "    <tr>\n",
       "      <th>20</th>\n",
       "      <td>2</td>\n",
       "      <td>21</td>\n",
       "    </tr>\n",
       "    <tr>\n",
       "      <th>21</th>\n",
       "      <td>2</td>\n",
       "      <td>22</td>\n",
       "    </tr>\n",
       "    <tr>\n",
       "      <th>22</th>\n",
       "      <td>2</td>\n",
       "      <td>23</td>\n",
       "    </tr>\n",
       "    <tr>\n",
       "      <th>23</th>\n",
       "      <td>2</td>\n",
       "      <td>24</td>\n",
       "    </tr>\n",
       "    <tr>\n",
       "      <th>24</th>\n",
       "      <td>2</td>\n",
       "      <td>25</td>\n",
       "    </tr>\n",
       "    <tr>\n",
       "      <th>25</th>\n",
       "      <td>2</td>\n",
       "      <td>26</td>\n",
       "    </tr>\n",
       "    <tr>\n",
       "      <th>26</th>\n",
       "      <td>2</td>\n",
       "      <td>27</td>\n",
       "    </tr>\n",
       "    <tr>\n",
       "      <th>27</th>\n",
       "      <td>2</td>\n",
       "      <td>28</td>\n",
       "    </tr>\n",
       "    <tr>\n",
       "      <th>28</th>\n",
       "      <td>2</td>\n",
       "      <td>29</td>\n",
       "    </tr>\n",
       "    <tr>\n",
       "      <th>29</th>\n",
       "      <td>2</td>\n",
       "      <td>30</td>\n",
       "    </tr>\n",
       "    <tr>\n",
       "      <th>...</th>\n",
       "      <td>...</td>\n",
       "      <td>...</td>\n",
       "    </tr>\n",
       "    <tr>\n",
       "      <th>9970</th>\n",
       "      <td>200</td>\n",
       "      <td>71</td>\n",
       "    </tr>\n",
       "    <tr>\n",
       "      <th>9971</th>\n",
       "      <td>200</td>\n",
       "      <td>72</td>\n",
       "    </tr>\n",
       "    <tr>\n",
       "      <th>9972</th>\n",
       "      <td>200</td>\n",
       "      <td>73</td>\n",
       "    </tr>\n",
       "    <tr>\n",
       "      <th>9973</th>\n",
       "      <td>200</td>\n",
       "      <td>74</td>\n",
       "    </tr>\n",
       "    <tr>\n",
       "      <th>9974</th>\n",
       "      <td>200</td>\n",
       "      <td>75</td>\n",
       "    </tr>\n",
       "    <tr>\n",
       "      <th>9975</th>\n",
       "      <td>200</td>\n",
       "      <td>76</td>\n",
       "    </tr>\n",
       "    <tr>\n",
       "      <th>9976</th>\n",
       "      <td>200</td>\n",
       "      <td>77</td>\n",
       "    </tr>\n",
       "    <tr>\n",
       "      <th>9977</th>\n",
       "      <td>200</td>\n",
       "      <td>78</td>\n",
       "    </tr>\n",
       "    <tr>\n",
       "      <th>9978</th>\n",
       "      <td>200</td>\n",
       "      <td>79</td>\n",
       "    </tr>\n",
       "    <tr>\n",
       "      <th>9979</th>\n",
       "      <td>200</td>\n",
       "      <td>80</td>\n",
       "    </tr>\n",
       "    <tr>\n",
       "      <th>9980</th>\n",
       "      <td>200</td>\n",
       "      <td>81</td>\n",
       "    </tr>\n",
       "    <tr>\n",
       "      <th>9981</th>\n",
       "      <td>200</td>\n",
       "      <td>82</td>\n",
       "    </tr>\n",
       "    <tr>\n",
       "      <th>9982</th>\n",
       "      <td>200</td>\n",
       "      <td>83</td>\n",
       "    </tr>\n",
       "    <tr>\n",
       "      <th>9983</th>\n",
       "      <td>200</td>\n",
       "      <td>84</td>\n",
       "    </tr>\n",
       "    <tr>\n",
       "      <th>9984</th>\n",
       "      <td>200</td>\n",
       "      <td>85</td>\n",
       "    </tr>\n",
       "    <tr>\n",
       "      <th>9985</th>\n",
       "      <td>200</td>\n",
       "      <td>86</td>\n",
       "    </tr>\n",
       "    <tr>\n",
       "      <th>9986</th>\n",
       "      <td>200</td>\n",
       "      <td>87</td>\n",
       "    </tr>\n",
       "    <tr>\n",
       "      <th>9987</th>\n",
       "      <td>200</td>\n",
       "      <td>88</td>\n",
       "    </tr>\n",
       "    <tr>\n",
       "      <th>9988</th>\n",
       "      <td>200</td>\n",
       "      <td>89</td>\n",
       "    </tr>\n",
       "    <tr>\n",
       "      <th>9989</th>\n",
       "      <td>200</td>\n",
       "      <td>90</td>\n",
       "    </tr>\n",
       "    <tr>\n",
       "      <th>9990</th>\n",
       "      <td>200</td>\n",
       "      <td>91</td>\n",
       "    </tr>\n",
       "    <tr>\n",
       "      <th>9991</th>\n",
       "      <td>200</td>\n",
       "      <td>92</td>\n",
       "    </tr>\n",
       "    <tr>\n",
       "      <th>9992</th>\n",
       "      <td>200</td>\n",
       "      <td>93</td>\n",
       "    </tr>\n",
       "    <tr>\n",
       "      <th>9993</th>\n",
       "      <td>200</td>\n",
       "      <td>94</td>\n",
       "    </tr>\n",
       "    <tr>\n",
       "      <th>9994</th>\n",
       "      <td>200</td>\n",
       "      <td>95</td>\n",
       "    </tr>\n",
       "    <tr>\n",
       "      <th>9995</th>\n",
       "      <td>200</td>\n",
       "      <td>96</td>\n",
       "    </tr>\n",
       "    <tr>\n",
       "      <th>9996</th>\n",
       "      <td>200</td>\n",
       "      <td>97</td>\n",
       "    </tr>\n",
       "    <tr>\n",
       "      <th>9997</th>\n",
       "      <td>200</td>\n",
       "      <td>98</td>\n",
       "    </tr>\n",
       "    <tr>\n",
       "      <th>9998</th>\n",
       "      <td>200</td>\n",
       "      <td>99</td>\n",
       "    </tr>\n",
       "    <tr>\n",
       "      <th>9999</th>\n",
       "      <td>200</td>\n",
       "      <td>100</td>\n",
       "    </tr>\n",
       "  </tbody>\n",
       "</table>\n",
       "<p>10000 rows × 2 columns</p>\n",
       "</div>"
      ],
      "text/plain": [
       "      col1  col3\n",
       "0        2     1\n",
       "1        2     2\n",
       "2        2     3\n",
       "3        2     4\n",
       "4        2     5\n",
       "5        2     6\n",
       "6        2     7\n",
       "7        2     8\n",
       "8        2     9\n",
       "9        2    10\n",
       "10       2    11\n",
       "11       2    12\n",
       "12       2    13\n",
       "13       2    14\n",
       "14       2    15\n",
       "15       2    16\n",
       "16       2    17\n",
       "17       2    18\n",
       "18       2    19\n",
       "19       2    20\n",
       "20       2    21\n",
       "21       2    22\n",
       "22       2    23\n",
       "23       2    24\n",
       "24       2    25\n",
       "25       2    26\n",
       "26       2    27\n",
       "27       2    28\n",
       "28       2    29\n",
       "29       2    30\n",
       "...    ...   ...\n",
       "9970   200    71\n",
       "9971   200    72\n",
       "9972   200    73\n",
       "9973   200    74\n",
       "9974   200    75\n",
       "9975   200    76\n",
       "9976   200    77\n",
       "9977   200    78\n",
       "9978   200    79\n",
       "9979   200    80\n",
       "9980   200    81\n",
       "9981   200    82\n",
       "9982   200    83\n",
       "9983   200    84\n",
       "9984   200    85\n",
       "9985   200    86\n",
       "9986   200    87\n",
       "9987   200    88\n",
       "9988   200    89\n",
       "9989   200    90\n",
       "9990   200    91\n",
       "9991   200    92\n",
       "9992   200    93\n",
       "9993   200    94\n",
       "9994   200    95\n",
       "9995   200    96\n",
       "9996   200    97\n",
       "9997   200    98\n",
       "9998   200    99\n",
       "9999   200   100\n",
       "\n",
       "[10000 rows x 2 columns]"
      ]
     },
     "execution_count": 13,
     "metadata": {},
     "output_type": "execute_result"
    }
   ],
   "source": [
    "pd.merge(df1, df2,on='key')[['col1', 'col3']] "
   ]
  },
  {
   "cell_type": "code",
   "execution_count": null,
   "metadata": {
    "collapsed": true
   },
   "outputs": [],
   "source": []
  }
 ],
 "metadata": {
  "anaconda-cloud": {},
  "kernelspec": {
   "display_name": "Python 2",
   "language": "python",
   "name": "python2"
  },
  "language_info": {
   "codemirror_mode": {
    "name": "ipython",
    "version": 2
   },
   "file_extension": ".py",
   "mimetype": "text/x-python",
   "name": "python",
   "nbconvert_exporter": "python",
   "pygments_lexer": "ipython2",
   "version": "2.7.14"
  }
 },
 "nbformat": 4,
 "nbformat_minor": 1
}
